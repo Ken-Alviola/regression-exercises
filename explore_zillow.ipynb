{
 "cells": [
  {
   "cell_type": "code",
   "execution_count": 21,
   "metadata": {
    "ExecuteTime": {
     "end_time": "2021-03-15T18:50:57.196437Z",
     "start_time": "2021-03-15T18:50:57.180075Z"
    }
   },
   "outputs": [],
   "source": [
    "import warnings\n",
    "warnings.filterwarnings(\"ignore\")\n",
    "\n",
    "import matplotlib.pyplot as plt\n",
    "import numpy as np\n",
    "from scipy import stats\n",
    "import sklearn.preprocessing\n",
    "from sklearn.model_selection import train_test_split\n",
    "import pandas as pd\n",
    "import seaborn as sns\n",
    "from jupyterthemes import jtplot\n",
    "jtplot.style()\n",
    "\n",
    "from env import user, host, password\n",
    "import explore"
   ]
  },
  {
   "cell_type": "code",
   "execution_count": 7,
   "metadata": {
    "ExecuteTime": {
     "end_time": "2021-03-15T17:27:43.146062Z",
     "start_time": "2021-03-15T17:27:43.136923Z"
    }
   },
   "outputs": [],
   "source": [
    "def get_connection(db, user=user, host=host, password=password):\n",
    "    '''\n",
    "    This function uses my info from my env file to\n",
    "    create a connection url to access the Codeup db.\n",
    "    '''\n",
    "    return f'mysql+pymysql://{user}:{password}@{host}/{db}'\n",
    "\n",
    "def new_zillow_data():\n",
    "    '''\n",
    "    This function reads the zillow data from the Codeup db into a df,\n",
    "    write it to a csv file, and returns the df.\n",
    "    '''\n",
    "    # Create SQL query.\n",
    "    sql_query = ''' select * \n",
    "                    from properties_2017\n",
    "                    join predictions_2017 using(parcelid)\n",
    "                    where transactiondate between \"2017-05-01\" and \"2017-06-30\"\n",
    "                    and unitcnt = 1;\n",
    "                    '''\n",
    "    \n",
    "    # Read in DataFrame from Codeup db.\n",
    "    df = pd.read_sql(sql_query, get_connection('zillow'))\n",
    "    \n",
    "    return df\n",
    "\n",
    "def get_zillow_data(cached=False):\n",
    "    '''\n",
    "    This function reads in zillow data from Codeup database and writes data to\n",
    "    a csv file if cached == False or if cached == True reads in telco df from\n",
    "    a csv file, returns df.\n",
    "    '''\n",
    "    if cached == False or os.path.isfile('zillow.csv') == False:\n",
    "        \n",
    "        # Read fresh data from db into a DataFrame.\n",
    "        df = new_zillow_data()\n",
    "        \n",
    "        # Write DataFrame to a csv file.\n",
    "        df.to_csv('zillow.csv')\n",
    "        \n",
    "    else:\n",
    "        \n",
    "        # If csv file exists or cached == True, read in data from csv.\n",
    "        df = pd.read_csv('zillow.csv', index_col=0)\n",
    "        \n",
    "    return df"
   ]
  },
  {
   "cell_type": "code",
   "execution_count": 42,
   "metadata": {
    "ExecuteTime": {
     "end_time": "2021-03-15T19:14:36.651515Z",
     "start_time": "2021-03-15T19:14:36.491121Z"
    }
   },
   "outputs": [
    {
     "data": {
      "text/html": [
       "<div>\n",
       "<style scoped>\n",
       "    .dataframe tbody tr th:only-of-type {\n",
       "        vertical-align: middle;\n",
       "    }\n",
       "\n",
       "    .dataframe tbody tr th {\n",
       "        vertical-align: top;\n",
       "    }\n",
       "\n",
       "    .dataframe thead th {\n",
       "        text-align: right;\n",
       "    }\n",
       "</style>\n",
       "<table border=\"1\" class=\"dataframe\">\n",
       "  <thead>\n",
       "    <tr style=\"text-align: right;\">\n",
       "      <th></th>\n",
       "      <th>parcelid</th>\n",
       "      <th>id</th>\n",
       "      <th>airconditioningtypeid</th>\n",
       "      <th>architecturalstyletypeid</th>\n",
       "      <th>basementsqft</th>\n",
       "      <th>bathroomcnt</th>\n",
       "      <th>bedroomcnt</th>\n",
       "      <th>buildingclasstypeid</th>\n",
       "      <th>buildingqualitytypeid</th>\n",
       "      <th>calculatedbathnbr</th>\n",
       "      <th>...</th>\n",
       "      <th>taxvaluedollarcnt</th>\n",
       "      <th>assessmentyear</th>\n",
       "      <th>landtaxvaluedollarcnt</th>\n",
       "      <th>taxamount</th>\n",
       "      <th>taxdelinquencyflag</th>\n",
       "      <th>taxdelinquencyyear</th>\n",
       "      <th>censustractandblock</th>\n",
       "      <th>id.1</th>\n",
       "      <th>logerror</th>\n",
       "      <th>transactiondate</th>\n",
       "    </tr>\n",
       "  </thead>\n",
       "  <tbody>\n",
       "    <tr>\n",
       "      <th>0</th>\n",
       "      <td>11289917</td>\n",
       "      <td>2061546</td>\n",
       "      <td>1.0</td>\n",
       "      <td>NaN</td>\n",
       "      <td>NaN</td>\n",
       "      <td>2.0</td>\n",
       "      <td>3.0</td>\n",
       "      <td>NaN</td>\n",
       "      <td>6.0</td>\n",
       "      <td>2.0</td>\n",
       "      <td>...</td>\n",
       "      <td>136104.0</td>\n",
       "      <td>2016.0</td>\n",
       "      <td>27214.0</td>\n",
       "      <td>2319.90</td>\n",
       "      <td>Y</td>\n",
       "      <td>15.0</td>\n",
       "      <td>6.037901e+13</td>\n",
       "      <td>1248</td>\n",
       "      <td>-0.362001</td>\n",
       "      <td>2017-06-23</td>\n",
       "    </tr>\n",
       "    <tr>\n",
       "      <th>1</th>\n",
       "      <td>11705026</td>\n",
       "      <td>1834372</td>\n",
       "      <td>NaN</td>\n",
       "      <td>NaN</td>\n",
       "      <td>NaN</td>\n",
       "      <td>1.0</td>\n",
       "      <td>2.0</td>\n",
       "      <td>NaN</td>\n",
       "      <td>6.0</td>\n",
       "      <td>1.0</td>\n",
       "      <td>...</td>\n",
       "      <td>35606.0</td>\n",
       "      <td>2016.0</td>\n",
       "      <td>23624.0</td>\n",
       "      <td>543.69</td>\n",
       "      <td>NaN</td>\n",
       "      <td>NaN</td>\n",
       "      <td>6.037232e+13</td>\n",
       "      <td>1772</td>\n",
       "      <td>-0.146056</td>\n",
       "      <td>2017-06-30</td>\n",
       "    </tr>\n",
       "    <tr>\n",
       "      <th>2</th>\n",
       "      <td>11389003</td>\n",
       "      <td>2121349</td>\n",
       "      <td>NaN</td>\n",
       "      <td>NaN</td>\n",
       "      <td>NaN</td>\n",
       "      <td>2.0</td>\n",
       "      <td>3.0</td>\n",
       "      <td>NaN</td>\n",
       "      <td>6.0</td>\n",
       "      <td>2.0</td>\n",
       "      <td>...</td>\n",
       "      <td>614000.0</td>\n",
       "      <td>2016.0</td>\n",
       "      <td>449000.0</td>\n",
       "      <td>7673.19</td>\n",
       "      <td>NaN</td>\n",
       "      <td>NaN</td>\n",
       "      <td>6.037703e+13</td>\n",
       "      <td>3273</td>\n",
       "      <td>-0.325393</td>\n",
       "      <td>2017-06-01</td>\n",
       "    </tr>\n",
       "    <tr>\n",
       "      <th>3</th>\n",
       "      <td>11967869</td>\n",
       "      <td>2093710</td>\n",
       "      <td>NaN</td>\n",
       "      <td>NaN</td>\n",
       "      <td>NaN</td>\n",
       "      <td>1.0</td>\n",
       "      <td>2.0</td>\n",
       "      <td>NaN</td>\n",
       "      <td>5.0</td>\n",
       "      <td>1.0</td>\n",
       "      <td>...</td>\n",
       "      <td>274237.0</td>\n",
       "      <td>2016.0</td>\n",
       "      <td>191821.0</td>\n",
       "      <td>3267.47</td>\n",
       "      <td>NaN</td>\n",
       "      <td>NaN</td>\n",
       "      <td>6.037185e+13</td>\n",
       "      <td>3429</td>\n",
       "      <td>-0.005566</td>\n",
       "      <td>2017-06-29</td>\n",
       "    </tr>\n",
       "    <tr>\n",
       "      <th>4</th>\n",
       "      <td>12035176</td>\n",
       "      <td>1288537</td>\n",
       "      <td>NaN</td>\n",
       "      <td>NaN</td>\n",
       "      <td>NaN</td>\n",
       "      <td>1.0</td>\n",
       "      <td>1.0</td>\n",
       "      <td>NaN</td>\n",
       "      <td>11.0</td>\n",
       "      <td>1.0</td>\n",
       "      <td>...</td>\n",
       "      <td>245906.0</td>\n",
       "      <td>2016.0</td>\n",
       "      <td>146810.0</td>\n",
       "      <td>2926.19</td>\n",
       "      <td>NaN</td>\n",
       "      <td>NaN</td>\n",
       "      <td>6.037189e+13</td>\n",
       "      <td>5444</td>\n",
       "      <td>-0.114435</td>\n",
       "      <td>2017-05-24</td>\n",
       "    </tr>\n",
       "  </tbody>\n",
       "</table>\n",
       "<p>5 rows × 62 columns</p>\n",
       "</div>"
      ],
      "text/plain": [
       "   parcelid       id  airconditioningtypeid  architecturalstyletypeid  \\\n",
       "0  11289917  2061546                    1.0                       NaN   \n",
       "1  11705026  1834372                    NaN                       NaN   \n",
       "2  11389003  2121349                    NaN                       NaN   \n",
       "3  11967869  2093710                    NaN                       NaN   \n",
       "4  12035176  1288537                    NaN                       NaN   \n",
       "\n",
       "   basementsqft  bathroomcnt  bedroomcnt  buildingclasstypeid  \\\n",
       "0           NaN          2.0         3.0                  NaN   \n",
       "1           NaN          1.0         2.0                  NaN   \n",
       "2           NaN          2.0         3.0                  NaN   \n",
       "3           NaN          1.0         2.0                  NaN   \n",
       "4           NaN          1.0         1.0                  NaN   \n",
       "\n",
       "   buildingqualitytypeid  calculatedbathnbr  ...  taxvaluedollarcnt  \\\n",
       "0                    6.0                2.0  ...           136104.0   \n",
       "1                    6.0                1.0  ...            35606.0   \n",
       "2                    6.0                2.0  ...           614000.0   \n",
       "3                    5.0                1.0  ...           274237.0   \n",
       "4                   11.0                1.0  ...           245906.0   \n",
       "\n",
       "   assessmentyear  landtaxvaluedollarcnt  taxamount  taxdelinquencyflag  \\\n",
       "0          2016.0                27214.0    2319.90                   Y   \n",
       "1          2016.0                23624.0     543.69                 NaN   \n",
       "2          2016.0               449000.0    7673.19                 NaN   \n",
       "3          2016.0               191821.0    3267.47                 NaN   \n",
       "4          2016.0               146810.0    2926.19                 NaN   \n",
       "\n",
       "   taxdelinquencyyear  censustractandblock  id.1  logerror  transactiondate  \n",
       "0                15.0         6.037901e+13  1248 -0.362001       2017-06-23  \n",
       "1                 NaN         6.037232e+13  1772 -0.146056       2017-06-30  \n",
       "2                 NaN         6.037703e+13  3273 -0.325393       2017-06-01  \n",
       "3                 NaN         6.037185e+13  3429 -0.005566       2017-06-29  \n",
       "4                 NaN         6.037189e+13  5444 -0.114435       2017-05-24  \n",
       "\n",
       "[5 rows x 62 columns]"
      ]
     },
     "execution_count": 42,
     "metadata": {},
     "output_type": "execute_result"
    }
   ],
   "source": [
    "zillow = get_zillow_data(cached=True)\n",
    "zillow.head()"
   ]
  },
  {
   "cell_type": "code",
   "execution_count": 43,
   "metadata": {
    "ExecuteTime": {
     "end_time": "2021-03-15T19:14:39.637205Z",
     "start_time": "2021-03-15T19:14:39.622321Z"
    }
   },
   "outputs": [],
   "source": [
    "zillow = zillow.rename(columns={\"bedroomcnt\": \"bedrooms\", \"bathroomcnt\": \"bathrooms\", \"calculatedfinishedsquarefeet\": \"square_feet\", \"taxamount\": \"taxes\", \"taxvaluedollarcnt\": \"tax_value\"})"
   ]
  },
  {
   "cell_type": "code",
   "execution_count": 44,
   "metadata": {
    "ExecuteTime": {
     "end_time": "2021-03-15T19:14:41.589772Z",
     "start_time": "2021-03-15T19:14:41.576126Z"
    }
   },
   "outputs": [],
   "source": [
    "features = [\n",
    "    \"parcelid\",\n",
    "    \"bedrooms\",\n",
    "    \"bathrooms\",\n",
    "    \"square_feet\",\n",
    "    \"tax_value\",\n",
    "    'taxes',\n",
    "    'yearbuilt',\n",
    "    'regionidzip',\n",
    "    'regionidneighborhood',\n",
    "    'regionidcounty',\n",
    "    'regionidcity',\n",
    "    'fips'\n",
    "]\n",
    "zillow = zillow[features]\n",
    "zillow = zillow.set_index('parcelid')\n",
    "\n"
   ]
  },
  {
   "cell_type": "code",
   "execution_count": 45,
   "metadata": {
    "ExecuteTime": {
     "end_time": "2021-03-15T19:14:45.745860Z",
     "start_time": "2021-03-15T19:14:45.733018Z"
    }
   },
   "outputs": [
    {
     "data": {
      "text/plain": [
       "bedrooms                   0\n",
       "bathrooms                  0\n",
       "square_feet                1\n",
       "tax_value                  0\n",
       "taxes                      1\n",
       "yearbuilt                  6\n",
       "regionidzip                3\n",
       "regionidneighborhood    6431\n",
       "regionidcounty             0\n",
       "regionidcity             278\n",
       "fips                       0\n",
       "dtype: int64"
      ]
     },
     "execution_count": 45,
     "metadata": {},
     "output_type": "execute_result"
    }
   ],
   "source": [
    "zillow.isna().sum()"
   ]
  },
  {
   "cell_type": "code",
   "execution_count": 46,
   "metadata": {
    "ExecuteTime": {
     "end_time": "2021-03-15T19:14:50.425083Z",
     "start_time": "2021-03-15T19:14:50.414877Z"
    }
   },
   "outputs": [
    {
     "data": {
      "text/plain": [
       "(13309, 11)"
      ]
     },
     "execution_count": 46,
     "metadata": {},
     "output_type": "execute_result"
    }
   ],
   "source": [
    "zillow.shape"
   ]
  },
  {
   "cell_type": "code",
   "execution_count": 47,
   "metadata": {
    "ExecuteTime": {
     "end_time": "2021-03-15T19:14:52.232861Z",
     "start_time": "2021-03-15T19:14:52.212152Z"
    }
   },
   "outputs": [
    {
     "data": {
      "text/plain": [
       "bedrooms                   12\n",
       "bathrooms                  12\n",
       "square_feet              3079\n",
       "tax_value               11074\n",
       "taxes                   13212\n",
       "yearbuilt                 124\n",
       "regionidzip               277\n",
       "regionidneighborhood      293\n",
       "regionidcounty              2\n",
       "regionidcity              123\n",
       "fips                        2\n",
       "dtype: int64"
      ]
     },
     "execution_count": 47,
     "metadata": {},
     "output_type": "execute_result"
    }
   ],
   "source": [
    "zillow.nunique()"
   ]
  },
  {
   "cell_type": "code",
   "execution_count": 48,
   "metadata": {
    "ExecuteTime": {
     "end_time": "2021-03-15T19:15:20.276496Z",
     "start_time": "2021-03-15T19:15:20.270525Z"
    }
   },
   "outputs": [],
   "source": [
    "zillow = zillow.drop(columns=['regionidcounty','regionidneighborhood'])"
   ]
  },
  {
   "cell_type": "code",
   "execution_count": 49,
   "metadata": {
    "ExecuteTime": {
     "end_time": "2021-03-15T19:15:23.883197Z",
     "start_time": "2021-03-15T19:15:23.870460Z"
    }
   },
   "outputs": [
    {
     "data": {
      "text/plain": [
       "(13024, 9)"
      ]
     },
     "execution_count": 49,
     "metadata": {},
     "output_type": "execute_result"
    }
   ],
   "source": [
    "zillow = zillow.dropna()\n",
    "zillow.shape"
   ]
  },
  {
   "cell_type": "code",
   "execution_count": 50,
   "metadata": {
    "ExecuteTime": {
     "end_time": "2021-03-15T19:15:26.716955Z",
     "start_time": "2021-03-15T19:15:26.699527Z"
    }
   },
   "outputs": [
    {
     "name": "stdout",
     "output_type": "stream",
     "text": [
      "<class 'pandas.core.frame.DataFrame'>\n",
      "Int64Index: 13024 entries, 11289917 to 12942897\n",
      "Data columns (total 9 columns):\n",
      " #   Column        Non-Null Count  Dtype  \n",
      "---  ------        --------------  -----  \n",
      " 0   bedrooms      13024 non-null  float64\n",
      " 1   bathrooms     13024 non-null  float64\n",
      " 2   square_feet   13024 non-null  float64\n",
      " 3   tax_value     13024 non-null  float64\n",
      " 4   taxes         13024 non-null  float64\n",
      " 5   yearbuilt     13024 non-null  float64\n",
      " 6   regionidzip   13024 non-null  float64\n",
      " 7   regionidcity  13024 non-null  float64\n",
      " 8   fips          13024 non-null  float64\n",
      "dtypes: float64(9)\n",
      "memory usage: 1017.5 KB\n"
     ]
    }
   ],
   "source": [
    "zillow.info()"
   ]
  },
  {
   "cell_type": "code",
   "execution_count": 51,
   "metadata": {
    "ExecuteTime": {
     "end_time": "2021-03-15T19:19:35.989617Z",
     "start_time": "2021-03-15T19:19:35.983602Z"
    }
   },
   "outputs": [],
   "source": [
    "cat_vars = ['bedrooms','bathrooms','fips']\n",
    "quant_vars = ['square_feet','tax_value','taxes','yearbuilt']"
   ]
  },
  {
   "cell_type": "code",
   "execution_count": 52,
   "metadata": {
    "ExecuteTime": {
     "end_time": "2021-03-15T19:19:38.763124Z",
     "start_time": "2021-03-15T19:19:38.746122Z"
    }
   },
   "outputs": [
    {
     "data": {
      "text/plain": [
       "(187240.0, 545676.25)"
      ]
     },
     "execution_count": 52,
     "metadata": {},
     "output_type": "execute_result"
    }
   ],
   "source": [
    "q1 = zillow.tax_value.quantile(.25)\n",
    "q3 = zillow.tax_value.quantile(.75)\n",
    "q1, q3"
   ]
  },
  {
   "cell_type": "code",
   "execution_count": 53,
   "metadata": {
    "ExecuteTime": {
     "end_time": "2021-03-15T19:19:39.431371Z",
     "start_time": "2021-03-15T19:19:39.423541Z"
    }
   },
   "outputs": [
    {
     "data": {
      "text/plain": [
       "358436.25"
      ]
     },
     "execution_count": 53,
     "metadata": {},
     "output_type": "execute_result"
    }
   ],
   "source": [
    "iqr = q3 - q1\n",
    "iqr"
   ]
  },
  {
   "cell_type": "code",
   "execution_count": 54,
   "metadata": {
    "ExecuteTime": {
     "end_time": "2021-03-15T19:19:40.264114Z",
     "start_time": "2021-03-15T19:19:40.258848Z"
    }
   },
   "outputs": [],
   "source": [
    "multiplier = 1.5\n",
    "upper_bound = q3 + (multiplier * iqr)\n",
    "lower_bound = q1 - (multiplier * iqr)"
   ]
  },
  {
   "cell_type": "code",
   "execution_count": 55,
   "metadata": {
    "ExecuteTime": {
     "end_time": "2021-03-15T19:19:42.210921Z",
     "start_time": "2021-03-15T19:19:42.203812Z"
    }
   },
   "outputs": [
    {
     "data": {
      "text/plain": [
       "(13024, 9)"
      ]
     },
     "execution_count": 55,
     "metadata": {},
     "output_type": "execute_result"
    }
   ],
   "source": [
    "zillow.shape"
   ]
  },
  {
   "cell_type": "code",
   "execution_count": 56,
   "metadata": {
    "ExecuteTime": {
     "end_time": "2021-03-15T19:19:44.359767Z",
     "start_time": "2021-03-15T19:19:44.345088Z"
    }
   },
   "outputs": [
    {
     "data": {
      "text/plain": [
       "(13024, 9)"
      ]
     },
     "execution_count": 56,
     "metadata": {},
     "output_type": "execute_result"
    }
   ],
   "source": [
    "zillow = zillow[zillow.tax_value > lower_bound]\n",
    "zillow.shape"
   ]
  },
  {
   "cell_type": "code",
   "execution_count": 57,
   "metadata": {
    "ExecuteTime": {
     "end_time": "2021-03-15T19:19:45.090544Z",
     "start_time": "2021-03-15T19:19:45.078394Z"
    }
   },
   "outputs": [
    {
     "data": {
      "text/plain": [
       "(12063, 9)"
      ]
     },
     "execution_count": 57,
     "metadata": {},
     "output_type": "execute_result"
    }
   ],
   "source": [
    "zillow = zillow[zillow.tax_value < upper_bound]\n",
    "zillow.shape"
   ]
  },
  {
   "cell_type": "code",
   "execution_count": null,
   "metadata": {},
   "outputs": [],
   "source": []
  },
  {
   "cell_type": "code",
   "execution_count": 58,
   "metadata": {
    "ExecuteTime": {
     "end_time": "2021-03-15T19:19:52.494796Z",
     "start_time": "2021-03-15T19:19:50.218479Z"
    },
    "scrolled": false
   },
   "outputs": [
    {
     "data": {
      "image/png": "[encoded data removed]",
      "text/plain": [
       "<Figure size 144x144 with 1 Axes>"
      ]
     },
     "metadata": {},
     "output_type": "display_data"
    },
    {
     "name": "stdout",
     "output_type": "stream",
     "text": [
      "      bedrooms  Count  Percent\n",
      "3.0        3.0   5146    42.66\n",
      "2.0        2.0   3428    28.42\n",
      "4.0        1.0   2306    19.12\n",
      "1.0        4.0    586     4.86\n",
      "5.0        6.0    456     3.78\n",
      "6.0        5.0     66     0.55\n",
      "0.0        7.0     64     0.53\n",
      "7.0        0.0      8     0.07\n",
      "11.0      11.0      1     0.01\n",
      "10.0       8.0      1     0.01\n",
      "8.0       10.0      1     0.01\n",
      "_________________________________________________________________\n"
     ]
    },
    {
     "data": {
      "image/png": "[encoded data removed]",
      "text/plain": [
       "<Figure size 144x144 with 1 Axes>"
      ]
     },
     "metadata": {},
     "output_type": "display_data"
    },
    {
     "name": "stdout",
     "output_type": "stream",
     "text": [
      "      bathrooms  Count  Percent\n",
      "2.0         2.0   5585    46.30\n",
      "3.0         1.0   3249    26.93\n",
      "1.0         3.0   2741    22.72\n",
      "4.0         4.0    380     3.15\n",
      "5.0         0.0     82     0.68\n",
      "6.0         6.0     12     0.10\n",
      "0.0         5.0      9     0.07\n",
      "7.0         7.0      2     0.02\n",
      "9.0         9.0      1     0.01\n",
      "10.0        8.0      1     0.01\n",
      "8.0        10.0      1     0.01\n",
      "_________________________________________________________________\n"
     ]
    },
    {
     "data": {
      "image/png": "[encoded data removed]",
      "text/plain": [
       "<Figure size 144x144 with 1 Axes>"
      ]
     },
     "metadata": {},
     "output_type": "display_data"
    },
    {
     "name": "stdout",
     "output_type": "stream",
     "text": [
      "          fips  Count  Percent\n",
      "6037.0  6037.0  12063    100.0\n",
      "_________________________________________________________________\n"
     ]
    },
    {
     "data": {
      "image/png": "[encoded data removed]",
      "text/plain": [
       "<Figure size 576x144 with 2 Axes>"
      ]
     },
     "metadata": {},
     "output_type": "display_data"
    },
    {
     "name": "stdout",
     "output_type": "stream",
     "text": [
      "count    12063.00000\n",
      "mean      1574.66219\n",
      "std        668.57175\n",
      "min        242.00000\n",
      "25%       1122.00000\n",
      "50%       1430.00000\n",
      "75%       1855.00000\n",
      "max       7942.00000\n",
      "Name: square_feet, dtype: float64\n"
     ]
    },
    {
     "data": {
      "image/png": "[encoded data removed]",
      "text/plain": [
       "<Figure size 576x144 with 2 Axes>"
      ]
     },
     "metadata": {},
     "output_type": "display_data"
    },
    {
     "name": "stdout",
     "output_type": "stream",
     "text": [
      "count    1.206300e+04\n",
      "mean     3.545132e+05\n",
      "std      2.325971e+05\n",
      "min      1.050400e+04\n",
      "25%      1.760410e+05\n",
      "50%      3.096510e+05\n",
      "75%      4.810000e+05\n",
      "max      1.082259e+06\n",
      "Name: tax_value, dtype: float64\n"
     ]
    },
    {
     "data": {
      "image/png": "[encoded data removed]",
      "text/plain": [
       "<Figure size 576x144 with 2 Axes>"
      ]
     },
     "metadata": {},
     "output_type": "display_data"
    },
    {
     "name": "stdout",
     "output_type": "stream",
     "text": [
      "count    12063.000000\n",
      "mean      4565.521242\n",
      "std       2824.933792\n",
      "min        120.840000\n",
      "25%       2474.030000\n",
      "50%       4066.600000\n",
      "75%       6054.360000\n",
      "max      58634.770000\n",
      "Name: taxes, dtype: float64\n"
     ]
    },
    {
     "data": {
      "image/png": "[encoded data removed]",
      "text/plain": [
       "<Figure size 576x144 with 2 Axes>"
      ]
     },
     "metadata": {},
     "output_type": "display_data"
    },
    {
     "name": "stdout",
     "output_type": "stream",
     "text": [
      "count    12063.000000\n",
      "mean      1964.317334\n",
      "std         23.614110\n",
      "min       1878.000000\n",
      "25%       1950.000000\n",
      "50%       1962.000000\n",
      "75%       1983.000000\n",
      "max       2015.000000\n",
      "Name: yearbuilt, dtype: float64\n"
     ]
    }
   ],
   "source": [
    "\n",
    "explore.explore_univariate(zillow,cat_vars,quant_vars)"
   ]
  },
  {
   "cell_type": "code",
   "execution_count": 30,
   "metadata": {
    "ExecuteTime": {
     "end_time": "2021-03-15T19:02:19.851536Z",
     "start_time": "2021-03-15T19:02:19.840973Z"
    }
   },
   "outputs": [],
   "source": [
    "def split_zillow(df, stratify_by=None):\n",
    "    \"\"\"\n",
    "    Crude train, validate, test split\n",
    "    To stratify, send in a column name\n",
    "    \"\"\"\n",
    "    \n",
    "    if stratify_by == None:\n",
    "        train, test = train_test_split(df, test_size=.2, random_state=123)\n",
    "        train, validate = train_test_split(df, test_size=.3, random_state=123)\n",
    "    else:\n",
    "        train_validate, test = train_test_split(df, test_size=.2, random_state=123, stratify=df[stratify_by])\n",
    "        train, validate = train_test_split(train_validate, test_size=.3, random_state=123, stratify=train_validate[stratify_by])\n",
    "    \n",
    "    return train, validate, test"
   ]
  },
  {
   "cell_type": "code",
   "execution_count": 59,
   "metadata": {
    "ExecuteTime": {
     "end_time": "2021-03-15T19:20:06.392490Z",
     "start_time": "2021-03-15T19:20:06.376650Z"
    }
   },
   "outputs": [],
   "source": [
    "train, validate, test = split_zillow(zillow)"
   ]
  },
  {
   "cell_type": "code",
   "execution_count": null,
   "metadata": {
    "ExecuteTime": {
     "start_time": "2021-03-15T19:20:10.814Z"
    },
    "scrolled": false
   },
   "outputs": [
    {
     "name": "stdout",
     "output_type": "stream",
     "text": [
      "bedrooms \n",
      "_____________________\n",
      "\n",
      "           chi2       p-value  degrees of freedom\n",
      "0  59679.077119  3.201886e-07               57968\n",
      "\n",
      "observed:\n",
      " tax_value  10504.0  11089.0  11683.0  14284.0  16084.0  16514.0  16722.0  \\\n",
      "bedrooms                                                                   \n",
      "0.0              0        1        0        0        0        0        0   \n",
      "1.0              0        0        1        0        0        1        0   \n",
      "2.0              1        0        0        0        1        0        0   \n",
      "3.0              0        0        0        1        0        0        1   \n",
      "4.0              0        0        0        0        0        0        0   \n",
      "5.0              0        0        0        0        0        0        0   \n",
      "6.0              0        0        0        0        0        0        0   \n",
      "7.0              0        0        0        0        0        0        0   \n",
      "11.0             0        0        0        0        0        0        0   \n",
      "All              1        1        1        1        1        1        1   \n",
      "\n",
      "tax_value  16723.0  18589.0  19476.0  ...  1077046.0  1079025.0  1079282.0  \\\n",
      "bedrooms                              ...                                    \n",
      "0.0              0        0        0  ...          0          0          0   \n",
      "1.0              0        0        1  ...          0          0          0   \n",
      "2.0              1        1        0  ...          0          0          1   \n",
      "3.0              0        0        0  ...          1          1          0   \n",
      "4.0              0        0        0  ...          0          0          0   \n",
      "5.0              0        0        0  ...          0          0          0   \n",
      "6.0              0        0        0  ...          0          0          0   \n",
      "7.0              0        0        0  ...          0          0          0   \n",
      "11.0             0        0        0  ...          0          0          0   \n",
      "All              1        1        1  ...          1          1          1   \n",
      "\n",
      "tax_value  1079501.0  1079800.0  1079954.0  1080000.0  1081843.0  1082259.0  \\\n",
      "bedrooms                                                                      \n",
      "0.0                0          0          0          0          0          0   \n",
      "1.0                0          0          0          0          0          0   \n",
      "2.0                0          0          0          0          0          0   \n",
      "3.0                0          1          0          1          0          0   \n",
      "4.0                0          0          0          0          1          1   \n",
      "5.0                1          0          0          0          0          0   \n",
      "6.0                0          0          1          0          0          0   \n",
      "7.0                0          0          0          0          0          0   \n",
      "11.0               0          0          0          0          0          0   \n",
      "All                1          1          1          1          1          1   \n",
      "\n",
      "tax_value   All  \n",
      "bedrooms         \n",
      "0.0          47  \n",
      "1.0         399  \n",
      "2.0        2441  \n",
      "3.0        3550  \n",
      "4.0        1631  \n",
      "5.0         318  \n",
      "6.0          49  \n",
      "7.0           8  \n",
      "11.0          1  \n",
      "All        8444  \n",
      "\n",
      "[10 rows x 7248 columns]\n",
      "\n",
      "expected:\n",
      "        0         1         2         3         4         5         6     \\\n",
      "0  0.005566  0.005566  0.005566  0.005566  0.005566  0.005566  0.005566   \n",
      "1  0.047252  0.047252  0.047252  0.047252  0.047252  0.047252  0.047252   \n",
      "2  0.289081  0.289081  0.289081  0.289081  0.289081  0.289081  0.289081   \n",
      "3  0.420417  0.420417  0.420417  0.420417  0.420417  0.420417  0.420417   \n",
      "4  0.193155  0.193155  0.193155  0.193155  0.193155  0.193155  0.193155   \n",
      "5  0.037660  0.037660  0.037660  0.037660  0.037660  0.037660  0.037660   \n",
      "6  0.005803  0.005803  0.005803  0.005803  0.005803  0.005803  0.005803   \n",
      "7  0.000947  0.000947  0.000947  0.000947  0.000947  0.000947  0.000947   \n",
      "8  0.000118  0.000118  0.000118  0.000118  0.000118  0.000118  0.000118   \n",
      "\n",
      "       7         8         9     ...      7237      7238      7239      7240  \\\n",
      "0  0.005566  0.005566  0.005566  ...  0.011132  0.005566  0.005566  0.005566   \n",
      "1  0.047252  0.047252  0.047252  ...  0.094505  0.047252  0.047252  0.047252   \n",
      "2  0.289081  0.289081  0.289081  ...  0.578162  0.289081  0.289081  0.289081   \n",
      "3  0.420417  0.420417  0.420417  ...  0.840834  0.420417  0.420417  0.420417   \n",
      "4  0.193155  0.193155  0.193155  ...  0.386310  0.193155  0.193155  0.193155   \n",
      "5  0.037660  0.037660  0.037660  ...  0.075320  0.037660  0.037660  0.037660   \n",
      "6  0.005803  0.005803  0.005803  ...  0.011606  0.005803  0.005803  0.005803   \n",
      "7  0.000947  0.000947  0.000947  ...  0.001895  0.000947  0.000947  0.000947   \n",
      "8  0.000118  0.000118  0.000118  ...  0.000237  0.000118  0.000118  0.000118   \n",
      "\n",
      "       7241      7242      7243      7244      7245      7246  \n",
      "0  0.005566  0.005566  0.005566  0.005566  0.005566  0.005566  \n",
      "1  0.047252  0.047252  0.047252  0.047252  0.047252  0.047252  \n",
      "2  0.289081  0.289081  0.289081  0.289081  0.289081  0.289081  \n",
      "3  0.420417  0.420417  0.420417  0.420417  0.420417  0.420417  \n",
      "4  0.193155  0.193155  0.193155  0.193155  0.193155  0.193155  \n",
      "5  0.037660  0.037660  0.037660  0.037660  0.037660  0.037660  \n",
      "6  0.005803  0.005803  0.005803  0.005803  0.005803  0.005803  \n",
      "7  0.000947  0.000947  0.000947  0.000947  0.000947  0.000947  \n",
      "8  0.000118  0.000118  0.000118  0.000118  0.000118  0.000118  \n",
      "\n",
      "[9 rows x 7247 columns]\n"
     ]
    },
    {
     "data": {
      "image/png": "[encoded data removed]",
      "text/plain": [
       "<Figure size 144x144 with 1 Axes>"
      ]
     },
     "metadata": {},
     "output_type": "display_data"
    },
    {
     "name": "stdout",
     "output_type": "stream",
     "text": [
      "\n",
      "_____________________\n",
      "\n",
      "bathrooms \n",
      "_____________________\n",
      "\n",
      "           chi2       p-value  degrees of freedom\n",
      "0  70921.938346  1.343860e-53               65214\n",
      "\n",
      "observed:\n",
      " tax_value  10504.0  11089.0  11683.0  14284.0  16084.0  16514.0  16722.0  \\\n",
      "bathrooms                                                                  \n",
      "0.0              0        1        0        0        0        0        0   \n",
      "1.0              1        0        1        1        1        1        1   \n",
      "2.0              0        0        0        0        0        0        0   \n",
      "3.0              0        0        0        0        0        0        0   \n",
      "4.0              0        0        0        0        0        0        0   \n",
      "5.0              0        0        0        0        0        0        0   \n",
      "6.0              0        0        0        0        0        0        0   \n",
      "7.0              0        0        0        0        0        0        0   \n",
      "8.0              0        0        0        0        0        0        0   \n",
      "9.0              0        0        0        0        0        0        0   \n",
      "All              1        1        1        1        1        1        1   \n",
      "\n",
      "tax_value  16723.0  18589.0  19476.0  ...  1077046.0  1079025.0  1079282.0  \\\n",
      "bathrooms                             ...                                    \n",
      "0.0              0        0        0  ...          0          0          0   \n",
      "1.0              1        1        1  ...          0          0          1   \n",
      "2.0              0        0        0  ...          1          0          0   \n",
      "3.0              0        0        0  ...          0          1          0   \n",
      "4.0              0        0        0  ...          0          0          0   \n",
      "5.0              0        0        0  ...          0          0          0   \n",
      "6.0              0        0        0  ...          0          0          0   \n",
      "7.0              0        0        0  ...          0          0          0   \n",
      "8.0              0        0        0  ...          0          0          0   \n",
      "9.0              0        0        0  ...          0          0          0   \n",
      "All              1        1        1  ...          1          1          1   \n",
      "\n",
      "tax_value  1079501.0  1079800.0  1079954.0  1080000.0  1081843.0  1082259.0  \\\n",
      "bathrooms                                                                     \n",
      "0.0                0          0          0          0          0          0   \n",
      "1.0                0          0          0          1          0          0   \n",
      "2.0                0          0          0          0          0          0   \n",
      "3.0                0          0          0          0          1          0   \n",
      "4.0                0          1          0          0          0          1   \n",
      "5.0                1          0          0          0          0          0   \n",
      "6.0                0          0          1          0          0          0   \n",
      "7.0                0          0          0          0          0          0   \n",
      "8.0                0          0          0          0          0          0   \n",
      "9.0                0          0          0          0          0          0   \n",
      "All                1          1          1          1          1          1   \n",
      "\n",
      "tax_value   All  \n",
      "bathrooms        \n",
      "0.0           5  \n",
      "1.0        1931  \n",
      "2.0        3929  \n",
      "3.0        2242  \n",
      "4.0         268  \n",
      "5.0          57  \n",
      "6.0           9  \n",
      "7.0           1  \n",
      "8.0           1  \n",
      "9.0           1  \n",
      "All        8444  \n",
      "\n",
      "[11 rows x 7248 columns]\n",
      "\n",
      "expected:\n",
      "        0         1         2         3         4         5         6     \\\n",
      "0  0.000592  0.000592  0.000592  0.000592  0.000592  0.000592  0.000592   \n",
      "1  0.228683  0.228683  0.228683  0.228683  0.228683  0.228683  0.228683   \n",
      "2  0.465301  0.465301  0.465301  0.465301  0.465301  0.465301  0.465301   \n",
      "3  0.265514  0.265514  0.265514  0.265514  0.265514  0.265514  0.265514   \n",
      "4  0.031739  0.031739  0.031739  0.031739  0.031739  0.031739  0.031739   \n",
      "5  0.006750  0.006750  0.006750  0.006750  0.006750  0.006750  0.006750   \n",
      "6  0.001066  0.001066  0.001066  0.001066  0.001066  0.001066  0.001066   \n",
      "7  0.000118  0.000118  0.000118  0.000118  0.000118  0.000118  0.000118   \n",
      "8  0.000118  0.000118  0.000118  0.000118  0.000118  0.000118  0.000118   \n",
      "9  0.000118  0.000118  0.000118  0.000118  0.000118  0.000118  0.000118   \n",
      "\n",
      "       7         8         9     ...      7237      7238      7239      7240  \\\n",
      "0  0.000592  0.000592  0.000592  ...  0.001184  0.000592  0.000592  0.000592   \n",
      "1  0.228683  0.228683  0.228683  ...  0.457366  0.228683  0.228683  0.228683   \n",
      "2  0.465301  0.465301  0.465301  ...  0.930602  0.465301  0.465301  0.465301   \n",
      "3  0.265514  0.265514  0.265514  ...  0.531028  0.265514  0.265514  0.265514   \n",
      "4  0.031739  0.031739  0.031739  ...  0.063477  0.031739  0.031739  0.031739   \n",
      "5  0.006750  0.006750  0.006750  ...  0.013501  0.006750  0.006750  0.006750   \n",
      "6  0.001066  0.001066  0.001066  ...  0.002132  0.001066  0.001066  0.001066   \n",
      "7  0.000118  0.000118  0.000118  ...  0.000237  0.000118  0.000118  0.000118   \n",
      "8  0.000118  0.000118  0.000118  ...  0.000237  0.000118  0.000118  0.000118   \n",
      "9  0.000118  0.000118  0.000118  ...  0.000237  0.000118  0.000118  0.000118   \n",
      "\n",
      "       7241      7242      7243      7244      7245      7246  \n",
      "0  0.000592  0.000592  0.000592  0.000592  0.000592  0.000592  \n",
      "1  0.228683  0.228683  0.228683  0.228683  0.228683  0.228683  \n",
      "2  0.465301  0.465301  0.465301  0.465301  0.465301  0.465301  \n",
      "3  0.265514  0.265514  0.265514  0.265514  0.265514  0.265514  \n",
      "4  0.031739  0.031739  0.031739  0.031739  0.031739  0.031739  \n",
      "5  0.006750  0.006750  0.006750  0.006750  0.006750  0.006750  \n",
      "6  0.001066  0.001066  0.001066  0.001066  0.001066  0.001066  \n",
      "7  0.000118  0.000118  0.000118  0.000118  0.000118  0.000118  \n",
      "8  0.000118  0.000118  0.000118  0.000118  0.000118  0.000118  \n",
      "9  0.000118  0.000118  0.000118  0.000118  0.000118  0.000118  \n",
      "\n",
      "[10 rows x 7247 columns]\n"
     ]
    },
    {
     "data": {
      "image/png": "[encoded data removed]",
      "text/plain": [
       "<Figure size 144x144 with 1 Axes>"
      ]
     },
     "metadata": {},
     "output_type": "display_data"
    },
    {
     "name": "stdout",
     "output_type": "stream",
     "text": [
      "\n",
      "_____________________\n",
      "\n",
      "fips \n",
      "_____________________\n",
      "\n",
      "   chi2  p-value  degrees of freedom\n",
      "0   0.0      1.0                   0\n",
      "\n",
      "observed:\n",
      " tax_value  10504.0  11089.0  11683.0  14284.0  16084.0  16514.0  16722.0  \\\n",
      "fips                                                                       \n",
      "6037.0           1        1        1        1        1        1        1   \n",
      "All              1        1        1        1        1        1        1   \n",
      "\n",
      "tax_value  16723.0  18589.0  19476.0  ...  1077046.0  1079025.0  1079282.0  \\\n",
      "fips                                  ...                                    \n",
      "6037.0           1        1        1  ...          1          1          1   \n",
      "All              1        1        1  ...          1          1          1   \n",
      "\n",
      "tax_value  1079501.0  1079800.0  1079954.0  1080000.0  1081843.0  1082259.0  \\\n",
      "fips                                                                          \n",
      "6037.0             1          1          1          1          1          1   \n",
      "All                1          1          1          1          1          1   \n",
      "\n",
      "tax_value   All  \n",
      "fips             \n",
      "6037.0     8444  \n",
      "All        8444  \n",
      "\n",
      "[2 rows x 7248 columns]\n",
      "\n",
      "expected:\n",
      "    0     1     2     3     4     5     6     7     8     9     ...  7237  \\\n",
      "0   1.0   1.0   1.0   1.0   1.0   1.0   1.0   1.0   1.0   1.0  ...   2.0   \n",
      "\n",
      "   7238  7239  7240  7241  7242  7243  7244  7245  7246  \n",
      "0   1.0   1.0   1.0   1.0   1.0   1.0   1.0   1.0   1.0  \n",
      "\n",
      "[1 rows x 7247 columns]\n"
     ]
    },
    {
     "data": {
      "image/png": "[encoded data removed]",
      "text/plain": [
       "<Figure size 144x144 with 1 Axes>"
      ]
     },
     "metadata": {},
     "output_type": "display_data"
    },
    {
     "name": "stdout",
     "output_type": "stream",
     "text": [
      "\n",
      "_____________________\n",
      "\n",
      "square_feet \n",
      "____________________\n",
      "\n"
     ]
    }
   ],
   "source": [
    "plt.rcParams['figure.figsize'] = (4, 2)\n",
    "explore.explore_bivariate(train,'tax_value',cat_vars,quant_vars)"
   ]
  },
  {
   "cell_type": "code",
   "execution_count": null,
   "metadata": {},
   "outputs": [],
   "source": [
    "g = sns.PairGrid(train)\n",
    "g.map_diag(plt.hist)\n",
    "g.map_offdiag(plt.scatter)"
   ]
  },
  {
   "cell_type": "code",
   "execution_count": null,
   "metadata": {},
   "outputs": [],
   "source": [
    "sns.pairplot(train)"
   ]
  },
  {
   "cell_type": "code",
   "execution_count": null,
   "metadata": {},
   "outputs": [],
   "source": []
  },
  {
   "cell_type": "code",
   "execution_count": null,
   "metadata": {},
   "outputs": [],
   "source": []
  },
  {
   "cell_type": "code",
   "execution_count": null,
   "metadata": {},
   "outputs": [],
   "source": []
  },
  {
   "cell_type": "markdown",
   "metadata": {},
   "source": [
    "### 1. Write a function named plot_variable_pairs that accepts a dataframe as input and plots all of the pairwise relationships along with the regression line for each pair.\n",
    "\n",
    "\n",
    "### 3. Write a function named plot_categorical_and_continuous_vars that accepts your dataframe and the name of the columns that hold the continuous and categorical features and outputs 3 different plots for visualizing a categorical variable and a continuous variable.\n",
    "\n",
    "### 4. Save the functions you have written to create visualizations in a file named explore.py. Rewrite your notebook code so that you are using the functions imported from this file.\n",
    "\n",
    "### 5. Explore your dataset with any other visualizations you think will be helpful.\n",
    "\n",
    "### 6In a seperate notebook, use the functions you have developed in this exercise with the mall customers dataset."
   ]
  }
 ],
 "metadata": {
  "kernelspec": {
   "display_name": "Python 3",
   "language": "python",
   "name": "python3"
  },
  "language_info": {
   "codemirror_mode": {
    "name": "ipython",
    "version": 3
   },
   "file_extension": ".py",
   "mimetype": "text/x-python",
   "name": "python",
   "nbconvert_exporter": "python",
   "pygments_lexer": "ipython3",
   "version": "3.8.5"
  }
 },
 "nbformat": 4,
 "nbformat_minor": 4
}
