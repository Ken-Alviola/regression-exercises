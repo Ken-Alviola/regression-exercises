{
 "cells": [
  {
   "cell_type": "code",
   "execution_count": 83,
   "metadata": {
    "ExecuteTime": {
     "end_time": "2021-03-11T20:08:55.129635Z",
     "start_time": "2021-03-11T20:08:55.074816Z"
    }
   },
   "outputs": [],
   "source": [
    "import warnings\n",
    "warnings.filterwarnings(\"ignore\")\n",
    "\n",
    "import seaborn as sns\n",
    "import pandas as pd\n",
    "import matplotlib.pyplot as plt\n",
    "from sklearn.model_selection import train_test_split\n",
    "import seaborn as sns\n",
    "import numpy as np\n",
    "import os\n",
    "\n",
    "from env import host, user, password"
   ]
  },
  {
   "cell_type": "code",
   "execution_count": 5,
   "metadata": {
    "ExecuteTime": {
     "end_time": "2021-03-11T16:44:05.470351Z",
     "start_time": "2021-03-11T16:44:05.441230Z"
    }
   },
   "outputs": [],
   "source": [
    "#1. Acquire customer_id, monthly_charges, tenure, and total_charges from telco_churn database for all \n",
    "# customers with a 2 year contract.\n",
    "\n",
    "def get_connection(db, user=user, host=host, password=password):\n",
    "    '''\n",
    "    This function uses my info from my env file to\n",
    "    create a connection url to access the Codeup db.\n",
    "    '''\n",
    "    return f'mysql+pymysql://{user}:{password}@{host}/{db}'\n",
    "\n",
    "def new_telco_data():\n",
    "    '''\n",
    "    This function reads the telco_churn data from the Codeup db into a df,\n",
    "    write it to a csv file, and returns the df.\n",
    "    '''\n",
    "    # Create SQL query.\n",
    "    sql_query = ''' select customer_id, monthly_charges, tenure, total_charges\n",
    "                    from customers\n",
    "                    where contract_type_id = 2;\n",
    "                    '''\n",
    "    \n",
    "    # Read in DataFrame from Codeup db.\n",
    "    df = pd.read_sql(sql_query, get_connection('telco_churn'))\n",
    "    \n",
    "    return df\n",
    "\n",
    "def get_telco_data(cached=False):\n",
    "    '''\n",
    "    This function reads in telco_churn data from Codeup database and writes data to\n",
    "    a csv file if cached == False or if cached == True reads in telco df from\n",
    "    a csv file, returns df.\n",
    "    '''\n",
    "    if cached == False or os.path.isfile('telco_df.csv') == False:\n",
    "        \n",
    "        # Read fresh data from db into a DataFrame.\n",
    "        df = new_telco_data()\n",
    "        \n",
    "        # Write DataFrame to a csv file.\n",
    "        df.to_csv('telco_df.csv')\n",
    "        \n",
    "    else:\n",
    "        \n",
    "        # If csv file exists or cached == True, read in data from csv.\n",
    "        df = pd.read_csv('telco_df.csv', index_col=0)\n",
    "        \n",
    "    return df"
   ]
  },
  {
   "cell_type": "code",
   "execution_count": 40,
   "metadata": {
    "ExecuteTime": {
     "end_time": "2021-03-11T17:55:04.107366Z",
     "start_time": "2021-03-11T17:55:02.688437Z"
    }
   },
   "outputs": [
    {
     "data": {
      "text/html": [
       "<div>\n",
       "<style scoped>\n",
       "    .dataframe tbody tr th:only-of-type {\n",
       "        vertical-align: middle;\n",
       "    }\n",
       "\n",
       "    .dataframe tbody tr th {\n",
       "        vertical-align: top;\n",
       "    }\n",
       "\n",
       "    .dataframe thead th {\n",
       "        text-align: right;\n",
       "    }\n",
       "</style>\n",
       "<table border=\"1\" class=\"dataframe\">\n",
       "  <thead>\n",
       "    <tr style=\"text-align: right;\">\n",
       "      <th></th>\n",
       "      <th>customer_id</th>\n",
       "      <th>monthly_charges</th>\n",
       "      <th>tenure</th>\n",
       "      <th>total_charges</th>\n",
       "    </tr>\n",
       "  </thead>\n",
       "  <tbody>\n",
       "    <tr>\n",
       "      <th>0</th>\n",
       "      <td>0002-ORFBO</td>\n",
       "      <td>65.60</td>\n",
       "      <td>9</td>\n",
       "      <td>593.3</td>\n",
       "    </tr>\n",
       "    <tr>\n",
       "      <th>1</th>\n",
       "      <td>0020-JDNXP</td>\n",
       "      <td>61.25</td>\n",
       "      <td>34</td>\n",
       "      <td>1993.2</td>\n",
       "    </tr>\n",
       "    <tr>\n",
       "      <th>2</th>\n",
       "      <td>0022-TCJCI</td>\n",
       "      <td>62.70</td>\n",
       "      <td>45</td>\n",
       "      <td>2791.5</td>\n",
       "    </tr>\n",
       "    <tr>\n",
       "      <th>3</th>\n",
       "      <td>0023-UYUPN</td>\n",
       "      <td>25.20</td>\n",
       "      <td>50</td>\n",
       "      <td>1306.3</td>\n",
       "    </tr>\n",
       "    <tr>\n",
       "      <th>4</th>\n",
       "      <td>0036-IHMOT</td>\n",
       "      <td>103.70</td>\n",
       "      <td>55</td>\n",
       "      <td>5656.75</td>\n",
       "    </tr>\n",
       "  </tbody>\n",
       "</table>\n",
       "</div>"
      ],
      "text/plain": [
       "  customer_id  monthly_charges  tenure total_charges\n",
       "0  0002-ORFBO            65.60       9         593.3\n",
       "1  0020-JDNXP            61.25      34        1993.2\n",
       "2  0022-TCJCI            62.70      45        2791.5\n",
       "3  0023-UYUPN            25.20      50        1306.3\n",
       "4  0036-IHMOT           103.70      55       5656.75"
      ]
     },
     "execution_count": 40,
     "metadata": {},
     "output_type": "execute_result"
    }
   ],
   "source": [
    "telco = get_telco_data()\n",
    "telco.head()"
   ]
  },
  {
   "cell_type": "code",
   "execution_count": 41,
   "metadata": {
    "ExecuteTime": {
     "end_time": "2021-03-11T17:55:04.854346Z",
     "start_time": "2021-03-11T17:55:04.835318Z"
    }
   },
   "outputs": [
    {
     "data": {
      "text/plain": [
       "(1473, 4)"
      ]
     },
     "execution_count": 41,
     "metadata": {},
     "output_type": "execute_result"
    }
   ],
   "source": [
    "#2. Walk through the steps above using your new dataframe. You may handle the missing values\n",
    "# however you feel is appropriate.\n",
    "telco.shape"
   ]
  },
  {
   "cell_type": "code",
   "execution_count": 42,
   "metadata": {
    "ExecuteTime": {
     "end_time": "2021-03-11T17:55:05.840371Z",
     "start_time": "2021-03-11T17:55:05.763784Z"
    }
   },
   "outputs": [
    {
     "data": {
      "text/html": [
       "<div>\n",
       "<style scoped>\n",
       "    .dataframe tbody tr th:only-of-type {\n",
       "        vertical-align: middle;\n",
       "    }\n",
       "\n",
       "    .dataframe tbody tr th {\n",
       "        vertical-align: top;\n",
       "    }\n",
       "\n",
       "    .dataframe thead th {\n",
       "        text-align: right;\n",
       "    }\n",
       "</style>\n",
       "<table border=\"1\" class=\"dataframe\">\n",
       "  <thead>\n",
       "    <tr style=\"text-align: right;\">\n",
       "      <th></th>\n",
       "      <th>monthly_charges</th>\n",
       "      <th>tenure</th>\n",
       "    </tr>\n",
       "  </thead>\n",
       "  <tbody>\n",
       "    <tr>\n",
       "      <th>count</th>\n",
       "      <td>1473.000000</td>\n",
       "      <td>1473.000000</td>\n",
       "    </tr>\n",
       "    <tr>\n",
       "      <th>mean</th>\n",
       "      <td>65.048608</td>\n",
       "      <td>42.044807</td>\n",
       "    </tr>\n",
       "    <tr>\n",
       "      <th>std</th>\n",
       "      <td>31.840539</td>\n",
       "      <td>19.035883</td>\n",
       "    </tr>\n",
       "    <tr>\n",
       "      <th>min</th>\n",
       "      <td>18.250000</td>\n",
       "      <td>0.000000</td>\n",
       "    </tr>\n",
       "    <tr>\n",
       "      <th>25%</th>\n",
       "      <td>26.900000</td>\n",
       "      <td>27.000000</td>\n",
       "    </tr>\n",
       "    <tr>\n",
       "      <th>50%</th>\n",
       "      <td>68.750000</td>\n",
       "      <td>44.000000</td>\n",
       "    </tr>\n",
       "    <tr>\n",
       "      <th>75%</th>\n",
       "      <td>94.800000</td>\n",
       "      <td>58.000000</td>\n",
       "    </tr>\n",
       "    <tr>\n",
       "      <th>max</th>\n",
       "      <td>118.600000</td>\n",
       "      <td>72.000000</td>\n",
       "    </tr>\n",
       "  </tbody>\n",
       "</table>\n",
       "</div>"
      ],
      "text/plain": [
       "       monthly_charges       tenure\n",
       "count      1473.000000  1473.000000\n",
       "mean         65.048608    42.044807\n",
       "std          31.840539    19.035883\n",
       "min          18.250000     0.000000\n",
       "25%          26.900000    27.000000\n",
       "50%          68.750000    44.000000\n",
       "75%          94.800000    58.000000\n",
       "max         118.600000    72.000000"
      ]
     },
     "execution_count": 42,
     "metadata": {},
     "output_type": "execute_result"
    }
   ],
   "source": [
    "telco.describe()"
   ]
  },
  {
   "cell_type": "code",
   "execution_count": 43,
   "metadata": {
    "ExecuteTime": {
     "end_time": "2021-03-11T17:55:06.876903Z",
     "start_time": "2021-03-11T17:55:06.841139Z"
    }
   },
   "outputs": [
    {
     "name": "stdout",
     "output_type": "stream",
     "text": [
      "<class 'pandas.core.frame.DataFrame'>\n",
      "RangeIndex: 1473 entries, 0 to 1472\n",
      "Data columns (total 4 columns):\n",
      " #   Column           Non-Null Count  Dtype  \n",
      "---  ------           --------------  -----  \n",
      " 0   customer_id      1473 non-null   object \n",
      " 1   monthly_charges  1473 non-null   float64\n",
      " 2   tenure           1473 non-null   int64  \n",
      " 3   total_charges    1473 non-null   object \n",
      "dtypes: float64(1), int64(1), object(2)\n",
      "memory usage: 46.2+ KB\n"
     ]
    }
   ],
   "source": [
    "telco.info()\n",
    "#total charges is object, deal with it"
   ]
  },
  {
   "cell_type": "code",
   "execution_count": 44,
   "metadata": {
    "ExecuteTime": {
     "end_time": "2021-03-11T17:55:07.990535Z",
     "start_time": "2021-03-11T17:55:07.942452Z"
    }
   },
   "outputs": [],
   "source": [
    "telco.replace(r'^\\s*$', np.nan, regex=True, inplace=True)"
   ]
  },
  {
   "cell_type": "code",
   "execution_count": 49,
   "metadata": {
    "ExecuteTime": {
     "end_time": "2021-03-11T17:55:46.546220Z",
     "start_time": "2021-03-11T17:55:46.513306Z"
    }
   },
   "outputs": [
    {
     "name": "stdout",
     "output_type": "stream",
     "text": [
      "customer_id        0\n",
      "monthly_charges    0\n",
      "tenure             0\n",
      "total_charges      1\n",
      "dtype: int64\n"
     ]
    }
   ],
   "source": [
    "print(telco.isnull().sum())"
   ]
  },
  {
   "cell_type": "code",
   "execution_count": 46,
   "metadata": {
    "ExecuteTime": {
     "end_time": "2021-03-11T17:55:11.227850Z",
     "start_time": "2021-03-11T17:55:11.212942Z"
    }
   },
   "outputs": [
    {
     "name": "stdout",
     "output_type": "stream",
     "text": [
      "Index(['total_charges'], dtype='object')\n"
     ]
    }
   ],
   "source": [
    "print(telco.columns[telco.isnull().any()])"
   ]
  },
  {
   "cell_type": "code",
   "execution_count": 47,
   "metadata": {
    "ExecuteTime": {
     "end_time": "2021-03-11T17:55:13.462836Z",
     "start_time": "2021-03-11T17:55:13.430636Z"
    }
   },
   "outputs": [
    {
     "data": {
      "text/plain": [
       "2038.7     1\n",
       "2882.25    1\n",
       "5301.1     1\n",
       "7674.55    1\n",
       "3173.35    1\n",
       "          ..\n",
       "592.65     2\n",
       "854.9      2\n",
       "727.8      2\n",
       "3187.65    2\n",
       "989.05     2\n",
       "Name: total_charges, Length: 1467, dtype: int64"
      ]
     },
     "execution_count": 47,
     "metadata": {},
     "output_type": "execute_result"
    }
   ],
   "source": [
    "telco.total_charges.value_counts(sort=True, ascending=True)"
   ]
  },
  {
   "cell_type": "code",
   "execution_count": 52,
   "metadata": {
    "ExecuteTime": {
     "end_time": "2021-03-11T17:57:51.475018Z",
     "start_time": "2021-03-11T17:57:51.434534Z"
    }
   },
   "outputs": [
    {
     "data": {
      "text/plain": [
       "(1472, 4)"
      ]
     },
     "execution_count": 52,
     "metadata": {},
     "output_type": "execute_result"
    }
   ],
   "source": [
    "telco = telco.dropna()\n",
    "telco.shape"
   ]
  },
  {
   "cell_type": "code",
   "execution_count": 54,
   "metadata": {
    "ExecuteTime": {
     "end_time": "2021-03-11T17:59:35.000251Z",
     "start_time": "2021-03-11T17:59:34.977279Z"
    }
   },
   "outputs": [
    {
     "data": {
      "text/plain": [
       "customer_id         object\n",
       "monthly_charges    float64\n",
       "tenure               int64\n",
       "total_charges      float64\n",
       "dtype: object"
      ]
     },
     "execution_count": 54,
     "metadata": {},
     "output_type": "execute_result"
    }
   ],
   "source": [
    "telco['total_charges'] = telco.total_charges.astype(float)\n",
    "telco.dtypes"
   ]
  },
  {
   "cell_type": "code",
   "execution_count": 55,
   "metadata": {
    "ExecuteTime": {
     "end_time": "2021-03-11T18:00:00.710579Z",
     "start_time": "2021-03-11T18:00:00.591876Z"
    }
   },
   "outputs": [
    {
     "data": {
      "text/html": [
       "<div>\n",
       "<style scoped>\n",
       "    .dataframe tbody tr th:only-of-type {\n",
       "        vertical-align: middle;\n",
       "    }\n",
       "\n",
       "    .dataframe tbody tr th {\n",
       "        vertical-align: top;\n",
       "    }\n",
       "\n",
       "    .dataframe thead th {\n",
       "        text-align: right;\n",
       "    }\n",
       "</style>\n",
       "<table border=\"1\" class=\"dataframe\">\n",
       "  <thead>\n",
       "    <tr style=\"text-align: right;\">\n",
       "      <th></th>\n",
       "      <th>monthly_charges</th>\n",
       "      <th>tenure</th>\n",
       "      <th>total_charges</th>\n",
       "    </tr>\n",
       "  </thead>\n",
       "  <tbody>\n",
       "    <tr>\n",
       "      <th>count</th>\n",
       "      <td>1472.000000</td>\n",
       "      <td>1472.00000</td>\n",
       "      <td>1472.000000</td>\n",
       "    </tr>\n",
       "    <tr>\n",
       "      <th>mean</th>\n",
       "      <td>65.079416</td>\n",
       "      <td>42.07337</td>\n",
       "      <td>3034.683084</td>\n",
       "    </tr>\n",
       "    <tr>\n",
       "      <th>std</th>\n",
       "      <td>31.829391</td>\n",
       "      <td>19.01075</td>\n",
       "      <td>2229.730075</td>\n",
       "    </tr>\n",
       "    <tr>\n",
       "      <th>min</th>\n",
       "      <td>18.250000</td>\n",
       "      <td>1.00000</td>\n",
       "      <td>18.800000</td>\n",
       "    </tr>\n",
       "    <tr>\n",
       "      <th>25%</th>\n",
       "      <td>28.812500</td>\n",
       "      <td>27.00000</td>\n",
       "      <td>989.350000</td>\n",
       "    </tr>\n",
       "    <tr>\n",
       "      <th>50%</th>\n",
       "      <td>68.750000</td>\n",
       "      <td>44.00000</td>\n",
       "      <td>2657.550000</td>\n",
       "    </tr>\n",
       "    <tr>\n",
       "      <th>75%</th>\n",
       "      <td>94.812500</td>\n",
       "      <td>58.00000</td>\n",
       "      <td>4859.525000</td>\n",
       "    </tr>\n",
       "    <tr>\n",
       "      <th>max</th>\n",
       "      <td>118.600000</td>\n",
       "      <td>72.00000</td>\n",
       "      <td>8684.800000</td>\n",
       "    </tr>\n",
       "  </tbody>\n",
       "</table>\n",
       "</div>"
      ],
      "text/plain": [
       "       monthly_charges      tenure  total_charges\n",
       "count      1472.000000  1472.00000    1472.000000\n",
       "mean         65.079416    42.07337    3034.683084\n",
       "std          31.829391    19.01075    2229.730075\n",
       "min          18.250000     1.00000      18.800000\n",
       "25%          28.812500    27.00000     989.350000\n",
       "50%          68.750000    44.00000    2657.550000\n",
       "75%          94.812500    58.00000    4859.525000\n",
       "max         118.600000    72.00000    8684.800000"
      ]
     },
     "execution_count": 55,
     "metadata": {},
     "output_type": "execute_result"
    }
   ],
   "source": [
    "telco.describe()"
   ]
  },
  {
   "cell_type": "code",
   "execution_count": 60,
   "metadata": {
    "ExecuteTime": {
     "end_time": "2021-03-11T19:29:30.300519Z",
     "start_time": "2021-03-11T19:29:29.976613Z"
    }
   },
   "outputs": [
    {
     "data": {
      "image/png": "[encoded data removed]",
      "text/plain": [
       "<Figure size 1152x216 with 3 Axes>"
      ]
     },
     "metadata": {},
     "output_type": "display_data"
    }
   ],
   "source": [
    "from jupyterthemes import jtplot\n",
    "jtplot.style()\n",
    "\n",
    "plt.figure(figsize=(16, 3))\n",
    "\n",
    "for i, col in enumerate(list(telco.columns[1:])):  \n",
    "    plot_number = i + 1 # i starts at 0, but plot nos should start at 1\n",
    "    series = telco[col]  \n",
    "    plt.subplot(1,4, plot_number)\n",
    "    plt.title(col)\n",
    "    series.hist(bins=5)"
   ]
  },
  {
   "cell_type": "code",
   "execution_count": 58,
   "metadata": {
    "ExecuteTime": {
     "end_time": "2021-03-11T19:28:38.112252Z",
     "start_time": "2021-03-11T19:28:38.104524Z"
    }
   },
   "outputs": [
    {
     "data": {
      "text/plain": [
       "Index(['monthly_charges', 'tenure', 'total_charges'], dtype='object')"
      ]
     },
     "execution_count": 58,
     "metadata": {},
     "output_type": "execute_result"
    }
   ],
   "source": [
    "telco.columns[1:]"
   ]
  },
  {
   "cell_type": "code",
   "execution_count": 66,
   "metadata": {
    "ExecuteTime": {
     "end_time": "2021-03-11T19:35:00.413415Z",
     "start_time": "2021-03-11T19:34:59.100310Z"
    }
   },
   "outputs": [
    {
     "data": {
      "text/plain": [
       "<AxesSubplot:>"
      ]
     },
     "execution_count": 66,
     "metadata": {},
     "output_type": "execute_result"
    },
    {
     "data": {
      "image/png": "[encoded data removed]",
      "text/plain": [
       "<Figure size 576x288 with 1 Axes>"
      ]
     },
     "metadata": {},
     "output_type": "display_data"
    }
   ],
   "source": [
    "plt.figure(figsize=(8,4))\n",
    "sns.boxplot(data=telco.drop(columns=['customer_id', 'total_charges']))"
   ]
  },
  {
   "cell_type": "code",
   "execution_count": 67,
   "metadata": {
    "ExecuteTime": {
     "end_time": "2021-03-11T19:35:03.283777Z",
     "start_time": "2021-03-11T19:35:02.671019Z"
    }
   },
   "outputs": [
    {
     "data": {
      "text/plain": [
       "<AxesSubplot:>"
      ]
     },
     "execution_count": 67,
     "metadata": {},
     "output_type": "execute_result"
    },
    {
     "data": {
      "image/png": "[encoded data removed]",
      "text/plain": [
       "<Figure size 460.8x403.2 with 1 Axes>"
      ]
     },
     "metadata": {},
     "output_type": "display_data"
    }
   ],
   "source": [
    "sns.boxplot(data=telco.total_charges)"
   ]
  },
  {
   "cell_type": "code",
   "execution_count": 93,
   "metadata": {
    "ExecuteTime": {
     "end_time": "2021-03-11T20:15:17.564630Z",
     "start_time": "2021-03-11T20:15:17.529775Z"
    }
   },
   "outputs": [],
   "source": [
    "def acquire_telco(cached=False):\n",
    "    '''\n",
    "    This function reads in telco_churn data from Codeup database and writes data to\n",
    "    a csv file if cached == False or if cached == True reads in telco df from\n",
    "    a csv file, returns df.\n",
    "    '''\n",
    "    if cached == False or os.path.isfile('telco_df.csv') == False:\n",
    "        \n",
    "        # Read fresh data from db into a DataFrame.\n",
    "        df = new_telco_data()\n",
    "        \n",
    "        # Write DataFrame to a csv file.\n",
    "        df.to_csv('telco_df.csv')\n",
    "        \n",
    "    else:\n",
    "        \n",
    "        # If csv file exists or cached == True, read in data from csv.\n",
    "        df = pd.read_csv('telco_df.csv', index_col=1)\n",
    "        df = df.drop(columns='Unnamed: 0')\n",
    "        \n",
    "    return df"
   ]
  },
  {
   "cell_type": "code",
   "execution_count": 78,
   "metadata": {
    "ExecuteTime": {
     "end_time": "2021-03-11T20:01:08.683754Z",
     "start_time": "2021-03-11T20:01:08.664675Z"
    }
   },
   "outputs": [],
   "source": [
    "def clean_telco(df):\n",
    "    '''Takes in a df of telco data and cleans the data by replacing blanks and dropping null values. \n",
    "    The total_charges column is then converted to float\n",
    "    \n",
    "    return: df, a cleaned pandas dataframe'''\n",
    "    df.replace(r'^\\s*$', np.nan, regex=True, inplace=True)\n",
    "    df = df.dropna()\n",
    "    df['total_charges'] = df.total_charges.astype(float)\n",
    "    return df"
   ]
  },
  {
   "cell_type": "code",
   "execution_count": 85,
   "metadata": {
    "ExecuteTime": {
     "end_time": "2021-03-11T20:12:16.621126Z",
     "start_time": "2021-03-11T20:12:16.600447Z"
    }
   },
   "outputs": [],
   "source": [
    "def split_telco(df, stratify_by=None):\n",
    "    \"\"\"\n",
    "    Crude train, validate, test split\n",
    "    To stratify, send in a column name\n",
    "    \"\"\"\n",
    "    \n",
    "    if stratify_by == None:\n",
    "        train, test = train_test_split(df, test_size=.2, random_state=123)\n",
    "        train, validate = train_test_split(df, test_size=.3, random_state=123)\n",
    "    else:\n",
    "        train_validate, test = train_test_split(df, test_size=.2, random_state=123, stratify=df[stratify_by])\n",
    "        train, validate = train_test_split(train_validate, test_size=.3, random_state=123, stratify=train_validate[stratify_by])\n",
    "    \n",
    "    return train, validate, test"
   ]
  },
  {
   "cell_type": "code",
   "execution_count": 88,
   "metadata": {
    "ExecuteTime": {
     "end_time": "2021-03-11T20:13:46.841131Z",
     "start_time": "2021-03-11T20:13:46.821274Z"
    }
   },
   "outputs": [],
   "source": [
    "def wrangle_telco():\n",
    "    '''\n",
    "    wrangle_telco will read in our student grades as a pandas dataframe,\n",
    "    clean the data\n",
    "    split the data\n",
    "    return: train, validate, test sets of pandas dataframes from telco, stratified on total_charges\n",
    "    '''\n",
    "    df = clean_telco(acquire_telco(cached=True))\n",
    "    return split_telco(df)\n",
    "\n",
    "    "
   ]
  },
  {
   "cell_type": "code",
   "execution_count": 96,
   "metadata": {
    "ExecuteTime": {
     "end_time": "2021-03-11T20:15:35.574212Z",
     "start_time": "2021-03-11T20:15:35.347000Z"
    }
   },
   "outputs": [
    {
     "data": {
      "text/html": [
       "<div>\n",
       "<style scoped>\n",
       "    .dataframe tbody tr th:only-of-type {\n",
       "        vertical-align: middle;\n",
       "    }\n",
       "\n",
       "    .dataframe tbody tr th {\n",
       "        vertical-align: top;\n",
       "    }\n",
       "\n",
       "    .dataframe thead th {\n",
       "        text-align: right;\n",
       "    }\n",
       "</style>\n",
       "<table border=\"1\" class=\"dataframe\">\n",
       "  <thead>\n",
       "    <tr style=\"text-align: right;\">\n",
       "      <th></th>\n",
       "      <th>monthly_charges</th>\n",
       "      <th>tenure</th>\n",
       "      <th>total_charges</th>\n",
       "    </tr>\n",
       "    <tr>\n",
       "      <th>customer_id</th>\n",
       "      <th></th>\n",
       "      <th></th>\n",
       "      <th></th>\n",
       "    </tr>\n",
       "  </thead>\n",
       "  <tbody>\n",
       "    <tr>\n",
       "      <th>5170-PTRKA</th>\n",
       "      <td>35.80</td>\n",
       "      <td>49</td>\n",
       "      <td>1782.00</td>\n",
       "    </tr>\n",
       "    <tr>\n",
       "      <th>3351-NQLDI</th>\n",
       "      <td>94.35</td>\n",
       "      <td>67</td>\n",
       "      <td>6341.45</td>\n",
       "    </tr>\n",
       "    <tr>\n",
       "      <th>2592-HODOV</th>\n",
       "      <td>19.30</td>\n",
       "      <td>13</td>\n",
       "      <td>259.65</td>\n",
       "    </tr>\n",
       "    <tr>\n",
       "      <th>1708-PBBOA</th>\n",
       "      <td>54.75</td>\n",
       "      <td>42</td>\n",
       "      <td>2348.45</td>\n",
       "    </tr>\n",
       "    <tr>\n",
       "      <th>1543-LLLFT</th>\n",
       "      <td>98.30</td>\n",
       "      <td>61</td>\n",
       "      <td>6066.55</td>\n",
       "    </tr>\n",
       "  </tbody>\n",
       "</table>\n",
       "</div>"
      ],
      "text/plain": [
       "             monthly_charges  tenure  total_charges\n",
       "customer_id                                        \n",
       "5170-PTRKA             35.80      49        1782.00\n",
       "3351-NQLDI             94.35      67        6341.45\n",
       "2592-HODOV             19.30      13         259.65\n",
       "1708-PBBOA             54.75      42        2348.45\n",
       "1543-LLLFT             98.30      61        6066.55"
      ]
     },
     "execution_count": 96,
     "metadata": {},
     "output_type": "execute_result"
    }
   ],
   "source": [
    "train, validate, test = wrangle_telco()\n",
    "train.head()"
   ]
  },
  {
   "cell_type": "code",
   "execution_count": null,
   "metadata": {},
   "outputs": [],
   "source": []
  }
 ],
 "metadata": {
  "kernelspec": {
   "display_name": "Python 3",
   "language": "python",
   "name": "python3"
  },
  "language_info": {
   "codemirror_mode": {
    "name": "ipython",
    "version": 3
   },
   "file_extension": ".py",
   "mimetype": "text/x-python",
   "name": "python",
   "nbconvert_exporter": "python",
   "pygments_lexer": "ipython3",
   "version": "3.8.5"
  }
 },
 "nbformat": 4,
 "nbformat_minor": 4
}
