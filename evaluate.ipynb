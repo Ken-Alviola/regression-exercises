{
 "cells": [
  {
   "cell_type": "code",
   "execution_count": 1,
   "metadata": {
    "ExecuteTime": {
     "end_time": "2021-03-16T16:19:15.045748Z",
     "start_time": "2021-03-16T16:19:14.087847Z"
    }
   },
   "outputs": [],
   "source": [
    "from scipy import stats\n",
    "from sklearn.metrics import mean_squared_error, r2_score, explained_variance_score\n",
    "import pandas as pd\n",
    "import seaborn as sns\n",
    "import numpy as np\n",
    "from sklearn.linear_model import LinearRegression\n",
    "from sklearn.feature_selection import f_regression \n",
    "from math import sqrt\n",
    "import matplotlib.pyplot as plt\n",
    "%matplotlib inline\n",
    "import warnings\n",
    "warnings.filterwarnings('ignore')\n",
    "from jupyterthemes import jtplot\n",
    "jtplot.style()\n",
    "\n"
   ]
  },
  {
   "cell_type": "markdown",
   "metadata": {},
   "source": [
    "# Do you work for this exercise in either a jupyter notebook named evaluate within your regression-exercises repository. By the end of this exercise you will also create a python script named evaluate, so the overall deliverables for this exercise are the python script and jupyter notebook both with the name evaluate within your regression-exercises repo.\n",
    "\n",
    "# 1. Load the tips dataset from either pydataset or seaborn.\n"
   ]
  },
  {
   "cell_type": "code",
   "execution_count": 3,
   "metadata": {
    "ExecuteTime": {
     "end_time": "2021-03-16T17:18:58.033792Z",
     "start_time": "2021-03-16T17:18:57.974682Z"
    }
   },
   "outputs": [
    {
     "data": {
      "text/html": [
       "<div>\n",
       "<style scoped>\n",
       "    .dataframe tbody tr th:only-of-type {\n",
       "        vertical-align: middle;\n",
       "    }\n",
       "\n",
       "    .dataframe tbody tr th {\n",
       "        vertical-align: top;\n",
       "    }\n",
       "\n",
       "    .dataframe thead th {\n",
       "        text-align: right;\n",
       "    }\n",
       "</style>\n",
       "<table border=\"1\" class=\"dataframe\">\n",
       "  <thead>\n",
       "    <tr style=\"text-align: right;\">\n",
       "      <th></th>\n",
       "      <th>total_bill</th>\n",
       "      <th>tip</th>\n",
       "      <th>sex</th>\n",
       "      <th>smoker</th>\n",
       "      <th>day</th>\n",
       "      <th>time</th>\n",
       "      <th>size</th>\n",
       "    </tr>\n",
       "  </thead>\n",
       "  <tbody>\n",
       "    <tr>\n",
       "      <th>0</th>\n",
       "      <td>16.99</td>\n",
       "      <td>1.01</td>\n",
       "      <td>Female</td>\n",
       "      <td>No</td>\n",
       "      <td>Sun</td>\n",
       "      <td>Dinner</td>\n",
       "      <td>2</td>\n",
       "    </tr>\n",
       "    <tr>\n",
       "      <th>1</th>\n",
       "      <td>10.34</td>\n",
       "      <td>1.66</td>\n",
       "      <td>Male</td>\n",
       "      <td>No</td>\n",
       "      <td>Sun</td>\n",
       "      <td>Dinner</td>\n",
       "      <td>3</td>\n",
       "    </tr>\n",
       "    <tr>\n",
       "      <th>2</th>\n",
       "      <td>21.01</td>\n",
       "      <td>3.50</td>\n",
       "      <td>Male</td>\n",
       "      <td>No</td>\n",
       "      <td>Sun</td>\n",
       "      <td>Dinner</td>\n",
       "      <td>3</td>\n",
       "    </tr>\n",
       "    <tr>\n",
       "      <th>3</th>\n",
       "      <td>23.68</td>\n",
       "      <td>3.31</td>\n",
       "      <td>Male</td>\n",
       "      <td>No</td>\n",
       "      <td>Sun</td>\n",
       "      <td>Dinner</td>\n",
       "      <td>2</td>\n",
       "    </tr>\n",
       "    <tr>\n",
       "      <th>4</th>\n",
       "      <td>24.59</td>\n",
       "      <td>3.61</td>\n",
       "      <td>Female</td>\n",
       "      <td>No</td>\n",
       "      <td>Sun</td>\n",
       "      <td>Dinner</td>\n",
       "      <td>4</td>\n",
       "    </tr>\n",
       "  </tbody>\n",
       "</table>\n",
       "</div>"
      ],
      "text/plain": [
       "   total_bill   tip     sex smoker  day    time  size\n",
       "0       16.99  1.01  Female     No  Sun  Dinner     2\n",
       "1       10.34  1.66    Male     No  Sun  Dinner     3\n",
       "2       21.01  3.50    Male     No  Sun  Dinner     3\n",
       "3       23.68  3.31    Male     No  Sun  Dinner     2\n",
       "4       24.59  3.61  Female     No  Sun  Dinner     4"
      ]
     },
     "execution_count": 3,
     "metadata": {},
     "output_type": "execute_result"
    }
   ],
   "source": [
    "tips = sns.load_dataset('tips')\n",
    "tips.head()"
   ]
  },
  {
   "cell_type": "code",
   "execution_count": null,
   "metadata": {},
   "outputs": [],
   "source": []
  },
  {
   "cell_type": "markdown",
   "metadata": {},
   "source": [
    "# 2.  Fit a linear regression model (ordinary least squares) and compute yhat, predictions of\n",
    "tip using total_bill.\n",
    "\n",
    "Here is some sample code to get you started:\n",
    "\n",
    "from statsmodels.formula.api import ols\n",
    "\n",
    "model = ols('y ~ x', data=df).fit()\n",
    "predictions = model.predict(df.x)\n",
    "\n",
    "The code above fits a linear regression model on the df dataset, using column y as the target and column x as the predictor. Modify the code as necessary to work with the tips dataset."
   ]
  },
  {
   "cell_type": "code",
   "execution_count": 4,
   "metadata": {
    "ExecuteTime": {
     "end_time": "2021-03-16T17:28:02.630120Z",
     "start_time": "2021-03-16T17:28:01.825106Z"
    }
   },
   "outputs": [
    {
     "data": {
      "text/html": [
       "<div>\n",
       "<style scoped>\n",
       "    .dataframe tbody tr th:only-of-type {\n",
       "        vertical-align: middle;\n",
       "    }\n",
       "\n",
       "    .dataframe tbody tr th {\n",
       "        vertical-align: top;\n",
       "    }\n",
       "\n",
       "    .dataframe thead th {\n",
       "        text-align: right;\n",
       "    }\n",
       "</style>\n",
       "<table border=\"1\" class=\"dataframe\">\n",
       "  <thead>\n",
       "    <tr style=\"text-align: right;\">\n",
       "      <th></th>\n",
       "      <th>total_bill</th>\n",
       "      <th>tip</th>\n",
       "      <th>sex</th>\n",
       "      <th>smoker</th>\n",
       "      <th>day</th>\n",
       "      <th>time</th>\n",
       "      <th>size</th>\n",
       "      <th>baseline</th>\n",
       "    </tr>\n",
       "  </thead>\n",
       "  <tbody>\n",
       "    <tr>\n",
       "      <th>0</th>\n",
       "      <td>16.99</td>\n",
       "      <td>1.01</td>\n",
       "      <td>Female</td>\n",
       "      <td>No</td>\n",
       "      <td>Sun</td>\n",
       "      <td>Dinner</td>\n",
       "      <td>2</td>\n",
       "      <td>2.998279</td>\n",
       "    </tr>\n",
       "    <tr>\n",
       "      <th>1</th>\n",
       "      <td>10.34</td>\n",
       "      <td>1.66</td>\n",
       "      <td>Male</td>\n",
       "      <td>No</td>\n",
       "      <td>Sun</td>\n",
       "      <td>Dinner</td>\n",
       "      <td>3</td>\n",
       "      <td>2.998279</td>\n",
       "    </tr>\n",
       "    <tr>\n",
       "      <th>2</th>\n",
       "      <td>21.01</td>\n",
       "      <td>3.50</td>\n",
       "      <td>Male</td>\n",
       "      <td>No</td>\n",
       "      <td>Sun</td>\n",
       "      <td>Dinner</td>\n",
       "      <td>3</td>\n",
       "      <td>2.998279</td>\n",
       "    </tr>\n",
       "    <tr>\n",
       "      <th>3</th>\n",
       "      <td>23.68</td>\n",
       "      <td>3.31</td>\n",
       "      <td>Male</td>\n",
       "      <td>No</td>\n",
       "      <td>Sun</td>\n",
       "      <td>Dinner</td>\n",
       "      <td>2</td>\n",
       "      <td>2.998279</td>\n",
       "    </tr>\n",
       "    <tr>\n",
       "      <th>4</th>\n",
       "      <td>24.59</td>\n",
       "      <td>3.61</td>\n",
       "      <td>Female</td>\n",
       "      <td>No</td>\n",
       "      <td>Sun</td>\n",
       "      <td>Dinner</td>\n",
       "      <td>4</td>\n",
       "      <td>2.998279</td>\n",
       "    </tr>\n",
       "  </tbody>\n",
       "</table>\n",
       "</div>"
      ],
      "text/plain": [
       "   total_bill   tip     sex smoker  day    time  size  baseline\n",
       "0       16.99  1.01  Female     No  Sun  Dinner     2  2.998279\n",
       "1       10.34  1.66    Male     No  Sun  Dinner     3  2.998279\n",
       "2       21.01  3.50    Male     No  Sun  Dinner     3  2.998279\n",
       "3       23.68  3.31    Male     No  Sun  Dinner     2  2.998279\n",
       "4       24.59  3.61  Female     No  Sun  Dinner     4  2.998279"
      ]
     },
     "execution_count": 4,
     "metadata": {},
     "output_type": "execute_result"
    }
   ],
   "source": [
    "from statsmodels.formula.api import ols\n",
    "tips['baseline'] = tips.tip.mean()\n",
    "tips.head()"
   ]
  },
  {
   "cell_type": "code",
   "execution_count": 8,
   "metadata": {
    "ExecuteTime": {
     "end_time": "2021-03-16T18:37:30.273133Z",
     "start_time": "2021-03-16T18:37:30.024331Z"
    }
   },
   "outputs": [
    {
     "data": {
      "text/plain": [
       "<matplotlib.lines.Line2D at 0x7fa9a9306be0>"
      ]
     },
     "execution_count": 8,
     "metadata": {},
     "output_type": "execute_result"
    },
    {
     "data": {
      "image/png": "[encoded data removed]",
      "text/plain": [
       "<Figure size 460.8x403.2 with 1 Axes>"
      ]
     },
     "metadata": {},
     "output_type": "display_data"
    }
   ],
   "source": [
    "plt.scatter(tips.total_bill,tips.tip)\n",
    "plt.axhline(tips.tip.mean(), ls = ':')"
   ]
  },
  {
   "cell_type": "code",
   "execution_count": 5,
   "metadata": {
    "ExecuteTime": {
     "end_time": "2021-03-16T17:32:44.250771Z",
     "start_time": "2021-03-16T17:32:44.209184Z"
    }
   },
   "outputs": [],
   "source": [
    "\n",
    "model = ols('tip ~ total_bill', data=tips).fit()\n",
    "tips['yhat'] = model.predict(tips.total_bill)"
   ]
  },
  {
   "cell_type": "code",
   "execution_count": 6,
   "metadata": {
    "ExecuteTime": {
     "end_time": "2021-03-16T17:33:00.116247Z",
     "start_time": "2021-03-16T17:33:00.081013Z"
    }
   },
   "outputs": [
    {
     "data": {
      "text/html": [
       "<div>\n",
       "<style scoped>\n",
       "    .dataframe tbody tr th:only-of-type {\n",
       "        vertical-align: middle;\n",
       "    }\n",
       "\n",
       "    .dataframe tbody tr th {\n",
       "        vertical-align: top;\n",
       "    }\n",
       "\n",
       "    .dataframe thead th {\n",
       "        text-align: right;\n",
       "    }\n",
       "</style>\n",
       "<table border=\"1\" class=\"dataframe\">\n",
       "  <thead>\n",
       "    <tr style=\"text-align: right;\">\n",
       "      <th></th>\n",
       "      <th>total_bill</th>\n",
       "      <th>tip</th>\n",
       "      <th>sex</th>\n",
       "      <th>smoker</th>\n",
       "      <th>day</th>\n",
       "      <th>time</th>\n",
       "      <th>size</th>\n",
       "      <th>baseline</th>\n",
       "      <th>yhat</th>\n",
       "    </tr>\n",
       "  </thead>\n",
       "  <tbody>\n",
       "    <tr>\n",
       "      <th>0</th>\n",
       "      <td>16.99</td>\n",
       "      <td>1.01</td>\n",
       "      <td>Female</td>\n",
       "      <td>No</td>\n",
       "      <td>Sun</td>\n",
       "      <td>Dinner</td>\n",
       "      <td>2</td>\n",
       "      <td>2.998279</td>\n",
       "      <td>2.704636</td>\n",
       "    </tr>\n",
       "    <tr>\n",
       "      <th>1</th>\n",
       "      <td>10.34</td>\n",
       "      <td>1.66</td>\n",
       "      <td>Male</td>\n",
       "      <td>No</td>\n",
       "      <td>Sun</td>\n",
       "      <td>Dinner</td>\n",
       "      <td>3</td>\n",
       "      <td>2.998279</td>\n",
       "      <td>2.006223</td>\n",
       "    </tr>\n",
       "    <tr>\n",
       "      <th>2</th>\n",
       "      <td>21.01</td>\n",
       "      <td>3.50</td>\n",
       "      <td>Male</td>\n",
       "      <td>No</td>\n",
       "      <td>Sun</td>\n",
       "      <td>Dinner</td>\n",
       "      <td>3</td>\n",
       "      <td>2.998279</td>\n",
       "      <td>3.126835</td>\n",
       "    </tr>\n",
       "    <tr>\n",
       "      <th>3</th>\n",
       "      <td>23.68</td>\n",
       "      <td>3.31</td>\n",
       "      <td>Male</td>\n",
       "      <td>No</td>\n",
       "      <td>Sun</td>\n",
       "      <td>Dinner</td>\n",
       "      <td>2</td>\n",
       "      <td>2.998279</td>\n",
       "      <td>3.407250</td>\n",
       "    </tr>\n",
       "    <tr>\n",
       "      <th>4</th>\n",
       "      <td>24.59</td>\n",
       "      <td>3.61</td>\n",
       "      <td>Female</td>\n",
       "      <td>No</td>\n",
       "      <td>Sun</td>\n",
       "      <td>Dinner</td>\n",
       "      <td>4</td>\n",
       "      <td>2.998279</td>\n",
       "      <td>3.502822</td>\n",
       "    </tr>\n",
       "  </tbody>\n",
       "</table>\n",
       "</div>"
      ],
      "text/plain": [
       "   total_bill   tip     sex smoker  day    time  size  baseline      yhat\n",
       "0       16.99  1.01  Female     No  Sun  Dinner     2  2.998279  2.704636\n",
       "1       10.34  1.66    Male     No  Sun  Dinner     3  2.998279  2.006223\n",
       "2       21.01  3.50    Male     No  Sun  Dinner     3  2.998279  3.126835\n",
       "3       23.68  3.31    Male     No  Sun  Dinner     2  2.998279  3.407250\n",
       "4       24.59  3.61  Female     No  Sun  Dinner     4  2.998279  3.502822"
      ]
     },
     "execution_count": 6,
     "metadata": {},
     "output_type": "execute_result"
    }
   ],
   "source": [
    "tips.head()"
   ]
  },
  {
   "cell_type": "markdown",
   "metadata": {},
   "source": [
    "# 3. Plot the residuals for the linear regression model that you made."
   ]
  },
  {
   "cell_type": "code",
   "execution_count": 10,
   "metadata": {
    "ExecuteTime": {
     "end_time": "2021-03-16T18:44:13.948562Z",
     "start_time": "2021-03-16T18:44:13.898935Z"
    }
   },
   "outputs": [
    {
     "data": {
      "text/html": [
       "<div>\n",
       "<style scoped>\n",
       "    .dataframe tbody tr th:only-of-type {\n",
       "        vertical-align: middle;\n",
       "    }\n",
       "\n",
       "    .dataframe tbody tr th {\n",
       "        vertical-align: top;\n",
       "    }\n",
       "\n",
       "    .dataframe thead th {\n",
       "        text-align: right;\n",
       "    }\n",
       "</style>\n",
       "<table border=\"1\" class=\"dataframe\">\n",
       "  <thead>\n",
       "    <tr style=\"text-align: right;\">\n",
       "      <th></th>\n",
       "      <th>total_bill</th>\n",
       "      <th>tip</th>\n",
       "      <th>sex</th>\n",
       "      <th>smoker</th>\n",
       "      <th>day</th>\n",
       "      <th>time</th>\n",
       "      <th>size</th>\n",
       "      <th>baseline</th>\n",
       "      <th>yhat</th>\n",
       "      <th>residuals</th>\n",
       "      <th>baseline_residual</th>\n",
       "    </tr>\n",
       "  </thead>\n",
       "  <tbody>\n",
       "    <tr>\n",
       "      <th>0</th>\n",
       "      <td>16.99</td>\n",
       "      <td>1.01</td>\n",
       "      <td>Female</td>\n",
       "      <td>No</td>\n",
       "      <td>Sun</td>\n",
       "      <td>Dinner</td>\n",
       "      <td>2</td>\n",
       "      <td>2.998279</td>\n",
       "      <td>2.704636</td>\n",
       "      <td>-1.694636</td>\n",
       "      <td>-1.988279</td>\n",
       "    </tr>\n",
       "    <tr>\n",
       "      <th>1</th>\n",
       "      <td>10.34</td>\n",
       "      <td>1.66</td>\n",
       "      <td>Male</td>\n",
       "      <td>No</td>\n",
       "      <td>Sun</td>\n",
       "      <td>Dinner</td>\n",
       "      <td>3</td>\n",
       "      <td>2.998279</td>\n",
       "      <td>2.006223</td>\n",
       "      <td>-0.346223</td>\n",
       "      <td>-1.338279</td>\n",
       "    </tr>\n",
       "    <tr>\n",
       "      <th>2</th>\n",
       "      <td>21.01</td>\n",
       "      <td>3.50</td>\n",
       "      <td>Male</td>\n",
       "      <td>No</td>\n",
       "      <td>Sun</td>\n",
       "      <td>Dinner</td>\n",
       "      <td>3</td>\n",
       "      <td>2.998279</td>\n",
       "      <td>3.126835</td>\n",
       "      <td>0.373165</td>\n",
       "      <td>0.501721</td>\n",
       "    </tr>\n",
       "    <tr>\n",
       "      <th>3</th>\n",
       "      <td>23.68</td>\n",
       "      <td>3.31</td>\n",
       "      <td>Male</td>\n",
       "      <td>No</td>\n",
       "      <td>Sun</td>\n",
       "      <td>Dinner</td>\n",
       "      <td>2</td>\n",
       "      <td>2.998279</td>\n",
       "      <td>3.407250</td>\n",
       "      <td>-0.097250</td>\n",
       "      <td>0.311721</td>\n",
       "    </tr>\n",
       "    <tr>\n",
       "      <th>4</th>\n",
       "      <td>24.59</td>\n",
       "      <td>3.61</td>\n",
       "      <td>Female</td>\n",
       "      <td>No</td>\n",
       "      <td>Sun</td>\n",
       "      <td>Dinner</td>\n",
       "      <td>4</td>\n",
       "      <td>2.998279</td>\n",
       "      <td>3.502822</td>\n",
       "      <td>0.107178</td>\n",
       "      <td>0.611721</td>\n",
       "    </tr>\n",
       "  </tbody>\n",
       "</table>\n",
       "</div>"
      ],
      "text/plain": [
       "   total_bill   tip     sex smoker  day    time  size  baseline      yhat  \\\n",
       "0       16.99  1.01  Female     No  Sun  Dinner     2  2.998279  2.704636   \n",
       "1       10.34  1.66    Male     No  Sun  Dinner     3  2.998279  2.006223   \n",
       "2       21.01  3.50    Male     No  Sun  Dinner     3  2.998279  3.126835   \n",
       "3       23.68  3.31    Male     No  Sun  Dinner     2  2.998279  3.407250   \n",
       "4       24.59  3.61  Female     No  Sun  Dinner     4  2.998279  3.502822   \n",
       "\n",
       "   residuals  baseline_residual  \n",
       "0  -1.694636          -1.988279  \n",
       "1  -0.346223          -1.338279  \n",
       "2   0.373165           0.501721  \n",
       "3  -0.097250           0.311721  \n",
       "4   0.107178           0.611721  "
      ]
     },
     "execution_count": 10,
     "metadata": {},
     "output_type": "execute_result"
    }
   ],
   "source": [
    "tips['residuals'] = tips.tip - tips.yhat\n",
    "tips['baseline_residual'] = tips.tip - tips.baseline\n",
    "tips.head()"
   ]
  },
  {
   "cell_type": "code",
   "execution_count": 11,
   "metadata": {
    "ExecuteTime": {
     "end_time": "2021-03-16T18:45:21.129958Z",
     "start_time": "2021-03-16T18:45:20.895052Z"
    }
   },
   "outputs": [
    {
     "data": {
      "image/png": "[encoded data removed]",
      "text/plain": [
       "<Figure size 460.8x403.2 with 1 Axes>"
      ]
     },
     "metadata": {},
     "output_type": "display_data"
    }
   ],
   "source": [
    "plt.scatter(tips.total_bill, tips.residuals)\n",
    "plt.axhline(y = 0, ls = ':')\n",
    "plt.title('OLS model residuals');"
   ]
  },
  {
   "cell_type": "code",
   "execution_count": 12,
   "metadata": {
    "ExecuteTime": {
     "end_time": "2021-03-16T18:47:36.097588Z",
     "start_time": "2021-03-16T18:47:35.878285Z"
    }
   },
   "outputs": [
    {
     "data": {
      "image/png": "[encoded data removed]",
      "text/plain": [
       "<Figure size 460.8x403.2 with 1 Axes>"
      ]
     },
     "metadata": {},
     "output_type": "display_data"
    }
   ],
   "source": [
    "plt.scatter(tips.total_bill, tips.baseline_residual)\n",
    "plt.axhline(y = 0, ls = ':')\n",
    "plt.title('Baseline Residuals');"
   ]
  },
  {
   "cell_type": "code",
   "execution_count": null,
   "metadata": {},
   "outputs": [],
   "source": []
  },
  {
   "cell_type": "markdown",
   "metadata": {},
   "source": [
    "# 4. Calculate the sum of squared errors, explained sum of squares, total sum of squares, mean squared error, and root mean squared error for your model.\n"
   ]
  },
  {
   "cell_type": "code",
   "execution_count": 15,
   "metadata": {
    "ExecuteTime": {
     "end_time": "2021-03-16T19:07:29.948896Z",
     "start_time": "2021-03-16T19:07:29.902624Z"
    }
   },
   "outputs": [
    {
     "data": {
      "text/html": [
       "<div>\n",
       "<style scoped>\n",
       "    .dataframe tbody tr th:only-of-type {\n",
       "        vertical-align: middle;\n",
       "    }\n",
       "\n",
       "    .dataframe tbody tr th {\n",
       "        vertical-align: top;\n",
       "    }\n",
       "\n",
       "    .dataframe thead th {\n",
       "        text-align: right;\n",
       "    }\n",
       "</style>\n",
       "<table border=\"1\" class=\"dataframe\">\n",
       "  <thead>\n",
       "    <tr style=\"text-align: right;\">\n",
       "      <th></th>\n",
       "      <th>total_bill</th>\n",
       "      <th>tip</th>\n",
       "      <th>sex</th>\n",
       "      <th>smoker</th>\n",
       "      <th>day</th>\n",
       "      <th>time</th>\n",
       "      <th>size</th>\n",
       "      <th>baseline</th>\n",
       "      <th>yhat</th>\n",
       "      <th>residuals</th>\n",
       "      <th>baseline_residual</th>\n",
       "      <th>residual^2</th>\n",
       "      <th>baseline_residual^2</th>\n",
       "    </tr>\n",
       "  </thead>\n",
       "  <tbody>\n",
       "    <tr>\n",
       "      <th>0</th>\n",
       "      <td>16.99</td>\n",
       "      <td>1.01</td>\n",
       "      <td>Female</td>\n",
       "      <td>No</td>\n",
       "      <td>Sun</td>\n",
       "      <td>Dinner</td>\n",
       "      <td>2</td>\n",
       "      <td>2.998279</td>\n",
       "      <td>2.704636</td>\n",
       "      <td>-1.694636</td>\n",
       "      <td>-1.988279</td>\n",
       "      <td>2.871792</td>\n",
       "      <td>3.953252</td>\n",
       "    </tr>\n",
       "    <tr>\n",
       "      <th>1</th>\n",
       "      <td>10.34</td>\n",
       "      <td>1.66</td>\n",
       "      <td>Male</td>\n",
       "      <td>No</td>\n",
       "      <td>Sun</td>\n",
       "      <td>Dinner</td>\n",
       "      <td>3</td>\n",
       "      <td>2.998279</td>\n",
       "      <td>2.006223</td>\n",
       "      <td>-0.346223</td>\n",
       "      <td>-1.338279</td>\n",
       "      <td>0.119870</td>\n",
       "      <td>1.790990</td>\n",
       "    </tr>\n",
       "    <tr>\n",
       "      <th>2</th>\n",
       "      <td>21.01</td>\n",
       "      <td>3.50</td>\n",
       "      <td>Male</td>\n",
       "      <td>No</td>\n",
       "      <td>Sun</td>\n",
       "      <td>Dinner</td>\n",
       "      <td>3</td>\n",
       "      <td>2.998279</td>\n",
       "      <td>3.126835</td>\n",
       "      <td>0.373165</td>\n",
       "      <td>0.501721</td>\n",
       "      <td>0.139252</td>\n",
       "      <td>0.251724</td>\n",
       "    </tr>\n",
       "    <tr>\n",
       "      <th>3</th>\n",
       "      <td>23.68</td>\n",
       "      <td>3.31</td>\n",
       "      <td>Male</td>\n",
       "      <td>No</td>\n",
       "      <td>Sun</td>\n",
       "      <td>Dinner</td>\n",
       "      <td>2</td>\n",
       "      <td>2.998279</td>\n",
       "      <td>3.407250</td>\n",
       "      <td>-0.097250</td>\n",
       "      <td>0.311721</td>\n",
       "      <td>0.009458</td>\n",
       "      <td>0.097170</td>\n",
       "    </tr>\n",
       "    <tr>\n",
       "      <th>4</th>\n",
       "      <td>24.59</td>\n",
       "      <td>3.61</td>\n",
       "      <td>Female</td>\n",
       "      <td>No</td>\n",
       "      <td>Sun</td>\n",
       "      <td>Dinner</td>\n",
       "      <td>4</td>\n",
       "      <td>2.998279</td>\n",
       "      <td>3.502822</td>\n",
       "      <td>0.107178</td>\n",
       "      <td>0.611721</td>\n",
       "      <td>0.011487</td>\n",
       "      <td>0.374203</td>\n",
       "    </tr>\n",
       "  </tbody>\n",
       "</table>\n",
       "</div>"
      ],
      "text/plain": [
       "   total_bill   tip     sex smoker  day    time  size  baseline      yhat  \\\n",
       "0       16.99  1.01  Female     No  Sun  Dinner     2  2.998279  2.704636   \n",
       "1       10.34  1.66    Male     No  Sun  Dinner     3  2.998279  2.006223   \n",
       "2       21.01  3.50    Male     No  Sun  Dinner     3  2.998279  3.126835   \n",
       "3       23.68  3.31    Male     No  Sun  Dinner     2  2.998279  3.407250   \n",
       "4       24.59  3.61  Female     No  Sun  Dinner     4  2.998279  3.502822   \n",
       "\n",
       "   residuals  baseline_residual  residual^2  baseline_residual^2  \n",
       "0  -1.694636          -1.988279    2.871792             3.953252  \n",
       "1  -0.346223          -1.338279    0.119870             1.790990  \n",
       "2   0.373165           0.501721    0.139252             0.251724  \n",
       "3  -0.097250           0.311721    0.009458             0.097170  \n",
       "4   0.107178           0.611721    0.011487             0.374203  "
      ]
     },
     "execution_count": 15,
     "metadata": {},
     "output_type": "execute_result"
    }
   ],
   "source": [
    "tips['residual^2'] = tips.residuals**2\n",
    "tips['baseline_residual^2'] = tips.baseline_residual**2\n",
    "tips.head()"
   ]
  },
  {
   "cell_type": "code",
   "execution_count": 18,
   "metadata": {
    "ExecuteTime": {
     "end_time": "2021-03-16T19:10:04.350577Z",
     "start_time": "2021-03-16T19:10:04.330537Z"
    }
   },
   "outputs": [
    {
     "data": {
      "text/plain": [
       "(252.788743850776, 252.788743850776)"
      ]
     },
     "execution_count": 18,
     "metadata": {},
     "output_type": "execute_result"
    }
   ],
   "source": [
    "from sklearn.metrics import mean_squared_error\n",
    "SSE = (mean_squared_error(tips.tip, tips.yhat))*len(tips)\n",
    "SSE, tips['residual^2'].sum()"
   ]
  },
  {
   "cell_type": "code",
   "execution_count": 19,
   "metadata": {
    "ExecuteTime": {
     "end_time": "2021-03-16T19:11:14.481754Z",
     "start_time": "2021-03-16T19:11:14.464710Z"
    }
   },
   "outputs": [
    {
     "data": {
      "text/plain": [
       "465.2124770491804"
      ]
     },
     "execution_count": 19,
     "metadata": {},
     "output_type": "execute_result"
    }
   ],
   "source": [
    "TSS = SSE_baseline = tips['baseline_residual^2'].sum()\n",
    "TSS"
   ]
  },
  {
   "cell_type": "code",
   "execution_count": 20,
   "metadata": {
    "ExecuteTime": {
     "end_time": "2021-03-16T19:11:39.175452Z",
     "start_time": "2021-03-16T19:11:39.165185Z"
    }
   },
   "outputs": [
    {
     "data": {
      "text/plain": [
       "212.4237331984044"
      ]
     },
     "execution_count": 20,
     "metadata": {},
     "output_type": "execute_result"
    }
   ],
   "source": [
    "ESS = TSS - SSE\n",
    "ESS"
   ]
  },
  {
   "cell_type": "code",
   "execution_count": 21,
   "metadata": {
    "ExecuteTime": {
     "end_time": "2021-03-16T19:12:35.315658Z",
     "start_time": "2021-03-16T19:12:35.297615Z"
    }
   },
   "outputs": [
    {
     "data": {
      "text/plain": [
       "1.036019442011377"
      ]
     },
     "execution_count": 21,
     "metadata": {},
     "output_type": "execute_result"
    }
   ],
   "source": [
    "MSE = mean_squared_error(tips.tip,tips.yhat)\n",
    "MSE"
   ]
  },
  {
   "cell_type": "code",
   "execution_count": 22,
   "metadata": {
    "ExecuteTime": {
     "end_time": "2021-03-16T19:13:22.226770Z",
     "start_time": "2021-03-16T19:13:22.214713Z"
    }
   },
   "outputs": [
    {
     "data": {
      "text/plain": [
       "1.0178504025697377"
      ]
     },
     "execution_count": 22,
     "metadata": {},
     "output_type": "execute_result"
    }
   ],
   "source": [
    "RMSE = mean_squared_error(tips.tip,tips.yhat, squared=False)\n",
    "RMSE"
   ]
  },
  {
   "cell_type": "markdown",
   "metadata": {},
   "source": [
    "# 5. Calculate the sum of squared errors, mean squared error, and root mean squared error for the baseline model (i.e. a model that always predicts the average tip amount).\n"
   ]
  },
  {
   "cell_type": "code",
   "execution_count": 23,
   "metadata": {
    "ExecuteTime": {
     "end_time": "2021-03-16T19:16:47.886130Z",
     "start_time": "2021-03-16T19:16:47.874608Z"
    }
   },
   "outputs": [
    {
     "data": {
      "text/plain": [
       "465.2124770491804"
      ]
     },
     "execution_count": 23,
     "metadata": {},
     "output_type": "execute_result"
    }
   ],
   "source": [
    "SSE_baseline"
   ]
  },
  {
   "cell_type": "code",
   "execution_count": 24,
   "metadata": {
    "ExecuteTime": {
     "end_time": "2021-03-16T19:17:25.729084Z",
     "start_time": "2021-03-16T19:17:25.710032Z"
    }
   },
   "outputs": [
    {
     "data": {
      "text/plain": [
       "1.906608512496641"
      ]
     },
     "execution_count": 24,
     "metadata": {},
     "output_type": "execute_result"
    }
   ],
   "source": [
    "MSE_baseline = mean_squared_error(tips.tip, tips.baseline)\n",
    "MSE_baseline"
   ]
  },
  {
   "cell_type": "code",
   "execution_count": 25,
   "metadata": {
    "ExecuteTime": {
     "end_time": "2021-03-16T19:18:11.541758Z",
     "start_time": "2021-03-16T19:18:11.527720Z"
    }
   },
   "outputs": [
    {
     "data": {
      "text/plain": [
       "1.3807999538298954"
      ]
     },
     "execution_count": 25,
     "metadata": {},
     "output_type": "execute_result"
    }
   ],
   "source": [
    "RMSE_baseline = mean_squared_error(tips.tip, tips.baseline, squared=False)\n",
    "RMSE_baseline"
   ]
  },
  {
   "cell_type": "markdown",
   "metadata": {},
   "source": [
    "# 6. Write python code that compares the sum of squared errors for your model against the sum of squared errors for the baseline model and outputs whether or not your model performs better than the baseline model."
   ]
  },
  {
   "cell_type": "code",
   "execution_count": 27,
   "metadata": {
    "ExecuteTime": {
     "end_time": "2021-03-16T19:26:17.058319Z",
     "start_time": "2021-03-16T19:26:17.044846Z"
    }
   },
   "outputs": [],
   "source": [
    "def compare_SSE(sse, sse_baseline):\n",
    "    if sse < sse_baseline:\n",
    "        print (f'Model SSE {sse} is < Baseline SSE {sse_baseline} so the model is better than baseline')\n",
    "    else:\n",
    "        print ('Model SSE is worse than baseline')"
   ]
  },
  {
   "cell_type": "code",
   "execution_count": 28,
   "metadata": {
    "ExecuteTime": {
     "end_time": "2021-03-16T19:27:20.671270Z",
     "start_time": "2021-03-16T19:27:20.658718Z"
    }
   },
   "outputs": [
    {
     "name": "stdout",
     "output_type": "stream",
     "text": [
      "Model SSE 252.788743850776 is < Baseline SSE 465.2124770491804 so the model is better than baseline\n"
     ]
    }
   ],
   "source": [
    "compare_SSE(SSE, SSE_baseline)"
   ]
  },
  {
   "cell_type": "markdown",
   "metadata": {},
   "source": [
    "# 7. What is the amount of variance explained in your model?"
   ]
  },
  {
   "cell_type": "code",
   "execution_count": 36,
   "metadata": {
    "ExecuteTime": {
     "end_time": "2021-03-16T19:51:52.186334Z",
     "start_time": "2021-03-16T19:51:52.172423Z"
    }
   },
   "outputs": [
    {
     "data": {
      "text/plain": [
       "0.45661658635167657"
      ]
     },
     "execution_count": 36,
     "metadata": {},
     "output_type": "execute_result"
    }
   ],
   "source": [
    "r2_score(tips.tip, tips.yhat)"
   ]
  },
  {
   "cell_type": "code",
   "execution_count": 33,
   "metadata": {
    "ExecuteTime": {
     "end_time": "2021-03-16T19:35:38.748855Z",
     "start_time": "2021-03-16T19:35:38.742544Z"
    }
   },
   "outputs": [
    {
     "name": "stdout",
     "output_type": "stream",
     "text": [
      "Explained Variance =  0.457\n"
     ]
    }
   ],
   "source": [
    "evs = explained_variance_score(tips.tip, tips.yhat)\n",
    "print('Explained Variance = ', round(evs,3))"
   ]
  },
  {
   "cell_type": "markdown",
   "metadata": {},
   "source": [
    "# 8. Is your model significantly better than the baseline model?"
   ]
  },
  {
   "cell_type": "code",
   "execution_count": 35,
   "metadata": {
    "ExecuteTime": {
     "end_time": "2021-03-16T19:39:42.320387Z",
     "start_time": "2021-03-16T19:39:42.267566Z"
    }
   },
   "outputs": [
    {
     "data": {
      "text/html": [
       "<table class=\"simpletable\">\n",
       "<caption>OLS Regression Results</caption>\n",
       "<tr>\n",
       "  <th>Dep. Variable:</th>           <td>tip</td>       <th>  R-squared:         </th> <td>   0.457</td>\n",
       "</tr>\n",
       "<tr>\n",
       "  <th>Model:</th>                   <td>OLS</td>       <th>  Adj. R-squared:    </th> <td>   0.454</td>\n",
       "</tr>\n",
       "<tr>\n",
       "  <th>Method:</th>             <td>Least Squares</td>  <th>  F-statistic:       </th> <td>   203.4</td>\n",
       "</tr>\n",
       "<tr>\n",
       "  <th>Date:</th>             <td>Tue, 16 Mar 2021</td> <th>  Prob (F-statistic):</th> <td>6.69e-34</td>\n",
       "</tr>\n",
       "<tr>\n",
       "  <th>Time:</th>                 <td>14:39:42</td>     <th>  Log-Likelihood:    </th> <td> -350.54</td>\n",
       "</tr>\n",
       "<tr>\n",
       "  <th>No. Observations:</th>      <td>   244</td>      <th>  AIC:               </th> <td>   705.1</td>\n",
       "</tr>\n",
       "<tr>\n",
       "  <th>Df Residuals:</th>          <td>   242</td>      <th>  BIC:               </th> <td>   712.1</td>\n",
       "</tr>\n",
       "<tr>\n",
       "  <th>Df Model:</th>              <td>     1</td>      <th>                     </th>     <td> </td>   \n",
       "</tr>\n",
       "<tr>\n",
       "  <th>Covariance Type:</th>      <td>nonrobust</td>    <th>                     </th>     <td> </td>   \n",
       "</tr>\n",
       "</table>\n",
       "<table class=\"simpletable\">\n",
       "<tr>\n",
       "       <td></td>         <th>coef</th>     <th>std err</th>      <th>t</th>      <th>P>|t|</th>  <th>[0.025</th>    <th>0.975]</th>  \n",
       "</tr>\n",
       "<tr>\n",
       "  <th>Intercept</th>  <td>    0.9203</td> <td>    0.160</td> <td>    5.761</td> <td> 0.000</td> <td>    0.606</td> <td>    1.235</td>\n",
       "</tr>\n",
       "<tr>\n",
       "  <th>total_bill</th> <td>    0.1050</td> <td>    0.007</td> <td>   14.260</td> <td> 0.000</td> <td>    0.091</td> <td>    0.120</td>\n",
       "</tr>\n",
       "</table>\n",
       "<table class=\"simpletable\">\n",
       "<tr>\n",
       "  <th>Omnibus:</th>       <td>20.185</td> <th>  Durbin-Watson:     </th> <td>   2.151</td>\n",
       "</tr>\n",
       "<tr>\n",
       "  <th>Prob(Omnibus):</th> <td> 0.000</td> <th>  Jarque-Bera (JB):  </th> <td>  37.750</td>\n",
       "</tr>\n",
       "<tr>\n",
       "  <th>Skew:</th>          <td> 0.443</td> <th>  Prob(JB):          </th> <td>6.35e-09</td>\n",
       "</tr>\n",
       "<tr>\n",
       "  <th>Kurtosis:</th>      <td> 4.711</td> <th>  Cond. No.          </th> <td>    53.0</td>\n",
       "</tr>\n",
       "</table><br/><br/>Notes:<br/>[1] Standard Errors assume that the covariance matrix of the errors is correctly specified."
      ],
      "text/plain": [
       "<class 'statsmodels.iolib.summary.Summary'>\n",
       "\"\"\"\n",
       "                            OLS Regression Results                            \n",
       "==============================================================================\n",
       "Dep. Variable:                    tip   R-squared:                       0.457\n",
       "Model:                            OLS   Adj. R-squared:                  0.454\n",
       "Method:                 Least Squares   F-statistic:                     203.4\n",
       "Date:                Tue, 16 Mar 2021   Prob (F-statistic):           6.69e-34\n",
       "Time:                        14:39:42   Log-Likelihood:                -350.54\n",
       "No. Observations:                 244   AIC:                             705.1\n",
       "Df Residuals:                     242   BIC:                             712.1\n",
       "Df Model:                           1                                         \n",
       "Covariance Type:            nonrobust                                         \n",
       "==============================================================================\n",
       "                 coef    std err          t      P>|t|      [0.025      0.975]\n",
       "------------------------------------------------------------------------------\n",
       "Intercept      0.9203      0.160      5.761      0.000       0.606       1.235\n",
       "total_bill     0.1050      0.007     14.260      0.000       0.091       0.120\n",
       "==============================================================================\n",
       "Omnibus:                       20.185   Durbin-Watson:                   2.151\n",
       "Prob(Omnibus):                  0.000   Jarque-Bera (JB):               37.750\n",
       "Skew:                           0.443   Prob(JB):                     6.35e-09\n",
       "Kurtosis:                       4.711   Cond. No.                         53.0\n",
       "==============================================================================\n",
       "\n",
       "Notes:\n",
       "[1] Standard Errors assume that the covariance matrix of the errors is correctly specified.\n",
       "\"\"\""
      ]
     },
     "execution_count": 35,
     "metadata": {},
     "output_type": "execute_result"
    }
   ],
   "source": [
    "model.summary()\n",
    "#p is < than a but R^2 isn't that great"
   ]
  },
  {
   "cell_type": "markdown",
   "metadata": {},
   "source": [
    "# 9. Create a file named evaluate.py that contains the following functions.\n",
    "\n",
    " - plot_residuals(y, yhat): creates a residual plot\n",
    " - regression_errors(y, yhat): returns the following values:\n",
    "     - sum of squared errors (SSE)\n",
    "     - explained sum of squares (ESS)\n",
    "     - total sum of squares (TSS)\n",
    "     - mean squared error (MSE)\n",
    "     - root mean squared error (RMSE)\n",
    " - baseline_mean_errors(y): computes the SSE, MSE, and RMSE for the baseline model\n",
    " - better_than_baseline(y, yhat): returns true if your model performs better than the baseline, otherwise false\n",
    " - model_significance(ols_model): that takes the ols model as input and returns the amount of variance explained in your model, and the value telling you whether your model is significantly better than the baseline model (Hint: use the rsquared and f_pvalue properties from the ols model)\n",
    " "
   ]
  },
  {
   "cell_type": "code",
   "execution_count": 41,
   "metadata": {
    "ExecuteTime": {
     "end_time": "2021-03-16T20:02:23.068744Z",
     "start_time": "2021-03-16T20:02:23.056418Z"
    }
   },
   "outputs": [],
   "source": [
    "from sklearn.metrics import mean_squared_error\n",
    "\n",
    "def plot_residuals(y, yhat, baseline_residuals):\n",
    "    plt.scatter(y, yhat)\n",
    "    plt.axhline(y = 0, ls = ':')\n",
    "    plt.title('OLS model residuals')\n",
    "    plt.show()\n",
    "    \n",
    "    plt.scatter(y, baseline_residuals)\n",
    "    plt.axhline(y = 0, ls = ':')\n",
    "    plt.title('Baseline Residuals')\n",
    "    plt.show()"
   ]
  },
  {
   "cell_type": "code",
   "execution_count": 39,
   "metadata": {
    "ExecuteTime": {
     "end_time": "2021-03-16T20:00:49.901928Z",
     "start_time": "2021-03-16T20:00:49.875435Z"
    }
   },
   "outputs": [
    {
     "data": {
      "text/html": [
       "<div>\n",
       "<style scoped>\n",
       "    .dataframe tbody tr th:only-of-type {\n",
       "        vertical-align: middle;\n",
       "    }\n",
       "\n",
       "    .dataframe tbody tr th {\n",
       "        vertical-align: top;\n",
       "    }\n",
       "\n",
       "    .dataframe thead th {\n",
       "        text-align: right;\n",
       "    }\n",
       "</style>\n",
       "<table border=\"1\" class=\"dataframe\">\n",
       "  <thead>\n",
       "    <tr style=\"text-align: right;\">\n",
       "      <th></th>\n",
       "      <th>total_bill</th>\n",
       "      <th>tip</th>\n",
       "      <th>sex</th>\n",
       "      <th>smoker</th>\n",
       "      <th>day</th>\n",
       "      <th>time</th>\n",
       "      <th>size</th>\n",
       "      <th>baseline</th>\n",
       "      <th>yhat</th>\n",
       "      <th>residuals</th>\n",
       "      <th>baseline_residual</th>\n",
       "      <th>residual^2</th>\n",
       "      <th>baseline_residual^2</th>\n",
       "    </tr>\n",
       "  </thead>\n",
       "  <tbody>\n",
       "    <tr>\n",
       "      <th>0</th>\n",
       "      <td>16.99</td>\n",
       "      <td>1.01</td>\n",
       "      <td>Female</td>\n",
       "      <td>No</td>\n",
       "      <td>Sun</td>\n",
       "      <td>Dinner</td>\n",
       "      <td>2</td>\n",
       "      <td>2.998279</td>\n",
       "      <td>2.704636</td>\n",
       "      <td>-1.694636</td>\n",
       "      <td>-1.988279</td>\n",
       "      <td>2.871792</td>\n",
       "      <td>3.953252</td>\n",
       "    </tr>\n",
       "    <tr>\n",
       "      <th>1</th>\n",
       "      <td>10.34</td>\n",
       "      <td>1.66</td>\n",
       "      <td>Male</td>\n",
       "      <td>No</td>\n",
       "      <td>Sun</td>\n",
       "      <td>Dinner</td>\n",
       "      <td>3</td>\n",
       "      <td>2.998279</td>\n",
       "      <td>2.006223</td>\n",
       "      <td>-0.346223</td>\n",
       "      <td>-1.338279</td>\n",
       "      <td>0.119870</td>\n",
       "      <td>1.790990</td>\n",
       "    </tr>\n",
       "    <tr>\n",
       "      <th>2</th>\n",
       "      <td>21.01</td>\n",
       "      <td>3.50</td>\n",
       "      <td>Male</td>\n",
       "      <td>No</td>\n",
       "      <td>Sun</td>\n",
       "      <td>Dinner</td>\n",
       "      <td>3</td>\n",
       "      <td>2.998279</td>\n",
       "      <td>3.126835</td>\n",
       "      <td>0.373165</td>\n",
       "      <td>0.501721</td>\n",
       "      <td>0.139252</td>\n",
       "      <td>0.251724</td>\n",
       "    </tr>\n",
       "    <tr>\n",
       "      <th>3</th>\n",
       "      <td>23.68</td>\n",
       "      <td>3.31</td>\n",
       "      <td>Male</td>\n",
       "      <td>No</td>\n",
       "      <td>Sun</td>\n",
       "      <td>Dinner</td>\n",
       "      <td>2</td>\n",
       "      <td>2.998279</td>\n",
       "      <td>3.407250</td>\n",
       "      <td>-0.097250</td>\n",
       "      <td>0.311721</td>\n",
       "      <td>0.009458</td>\n",
       "      <td>0.097170</td>\n",
       "    </tr>\n",
       "    <tr>\n",
       "      <th>4</th>\n",
       "      <td>24.59</td>\n",
       "      <td>3.61</td>\n",
       "      <td>Female</td>\n",
       "      <td>No</td>\n",
       "      <td>Sun</td>\n",
       "      <td>Dinner</td>\n",
       "      <td>4</td>\n",
       "      <td>2.998279</td>\n",
       "      <td>3.502822</td>\n",
       "      <td>0.107178</td>\n",
       "      <td>0.611721</td>\n",
       "      <td>0.011487</td>\n",
       "      <td>0.374203</td>\n",
       "    </tr>\n",
       "  </tbody>\n",
       "</table>\n",
       "</div>"
      ],
      "text/plain": [
       "   total_bill   tip     sex smoker  day    time  size  baseline      yhat  \\\n",
       "0       16.99  1.01  Female     No  Sun  Dinner     2  2.998279  2.704636   \n",
       "1       10.34  1.66    Male     No  Sun  Dinner     3  2.998279  2.006223   \n",
       "2       21.01  3.50    Male     No  Sun  Dinner     3  2.998279  3.126835   \n",
       "3       23.68  3.31    Male     No  Sun  Dinner     2  2.998279  3.407250   \n",
       "4       24.59  3.61  Female     No  Sun  Dinner     4  2.998279  3.502822   \n",
       "\n",
       "   residuals  baseline_residual  residual^2  baseline_residual^2  \n",
       "0  -1.694636          -1.988279    2.871792             3.953252  \n",
       "1  -0.346223          -1.338279    0.119870             1.790990  \n",
       "2   0.373165           0.501721    0.139252             0.251724  \n",
       "3  -0.097250           0.311721    0.009458             0.097170  \n",
       "4   0.107178           0.611721    0.011487             0.374203  "
      ]
     },
     "execution_count": 39,
     "metadata": {},
     "output_type": "execute_result"
    }
   ],
   "source": [
    "tips.head()"
   ]
  },
  {
   "cell_type": "code",
   "execution_count": 42,
   "metadata": {
    "ExecuteTime": {
     "end_time": "2021-03-16T20:02:27.839884Z",
     "start_time": "2021-03-16T20:02:27.350247Z"
    }
   },
   "outputs": [
    {
     "data": {
      "image/png": "[encoded data removed]",
      "text/plain": [
       "<Figure size 460.8x403.2 with 1 Axes>"
      ]
     },
     "metadata": {},
     "output_type": "display_data"
    },
    {
     "data": {
      "image/png": "[encoded data removed]",
      "text/plain": [
       "<Figure size 460.8x403.2 with 1 Axes>"
      ]
     },
     "metadata": {},
     "output_type": "display_data"
    }
   ],
   "source": [
    "plot_residuals(tips.tip, tips.residuals, tips.baseline_residual)"
   ]
  },
  {
   "cell_type": "code",
   "execution_count": 53,
   "metadata": {
    "ExecuteTime": {
     "end_time": "2021-03-16T20:52:28.061861Z",
     "start_time": "2021-03-16T20:52:28.049531Z"
    }
   },
   "outputs": [],
   "source": [
    "'''sum of squared errors (SSE)\n",
    "explained sum of squares (ESS)\n",
    "total sum of squares (TSS) \n",
    "    df['baseline'] = df.y.mean()\n",
    "    df['baseline_residual'] = df.y - df.baseline\n",
    "    TSS = SSE_baseline =  df['baseline_residual^2'].sum()\n",
    "mean squared error (MSE)\n",
    "root mean squared error (RMSE)'''\n",
    "\n",
    "def regression_errors(y, yhat, df):\n",
    "    MSE = mean_squared_error(y,yhat)\n",
    "    SSE = (mean_squared_error(y, yhat))*len(y)\n",
    "    \n",
    "    df['baseline'] = y.mean()\n",
    "    df['baseline_residual'] = y - df.baseline\n",
    "    df['baseline_residual^2'] = df.baseline_residual**2\n",
    "    \n",
    "    TSS = df['baseline_residual^2'].sum()\n",
    "    \n",
    "    ESS = TSS - SSE\n",
    "    RMSE = mean_squared_error(y,yhat, squared=False)\n",
    "    print (f'sum of squared errors (SSE): {SSE}')\n",
    "    print (f'explained sum of squares (ESS): {ESS}')\n",
    "    print (f'total sum of squares (TSS): {TSS}')\n",
    "    print (f'mean squared error (MSE): {MSE}')\n",
    "    print (f'root mean squared error (RMSE): {RMSE}')"
   ]
  },
  {
   "cell_type": "code",
   "execution_count": 54,
   "metadata": {
    "ExecuteTime": {
     "end_time": "2021-03-16T20:52:30.790354Z",
     "start_time": "2021-03-16T20:52:30.773406Z"
    }
   },
   "outputs": [
    {
     "name": "stdout",
     "output_type": "stream",
     "text": [
      "sum of squared errors (SSE): 252.788743850776\n",
      "explained sum of squares (ESS): 212.4237331984044\n",
      "total sum of squares (TSS): 465.2124770491804\n",
      "mean squared error (MSE): 1.036019442011377\n",
      "root mean squared error (RMSE): 1.0178504025697377\n"
     ]
    }
   ],
   "source": [
    "regression_errors(tips.tip, tips.yhat, tips)"
   ]
  },
  {
   "cell_type": "code",
   "execution_count": 55,
   "metadata": {
    "ExecuteTime": {
     "end_time": "2021-03-16T21:14:50.914790Z",
     "start_time": "2021-03-16T21:14:50.907924Z"
    }
   },
   "outputs": [],
   "source": [
    "# baseline_mean_errors(y): computes the SSE, MSE, and RMSE for the baseline model\n",
    "def baseline_mean_errors(y,df):\n",
    "    df['baseline'] = y.mean()\n",
    "    df['baseline_residual'] = y - df.baseline\n",
    "    df['baseline_residual^2'] = df.baseline_residual**2\n",
    "    \n",
    "    SSE = df['baseline_residual^2'].sum()\n",
    "    MSE = mean_squared_error(y, df.baseline)\n",
    "    RMSE = mean_squared_error(y, df.baseline, squared=False)\n",
    "    \n",
    "    print (f'sum of squared errors (SSE): {SSE}')\n",
    "    print (f'mean squared error (MSE): {MSE}')\n",
    "    print (f'root mean squared error (RMSE): {RMSE}')"
   ]
  },
  {
   "cell_type": "code",
   "execution_count": 56,
   "metadata": {
    "ExecuteTime": {
     "end_time": "2021-03-16T21:15:08.416106Z",
     "start_time": "2021-03-16T21:15:08.403486Z"
    }
   },
   "outputs": [
    {
     "name": "stdout",
     "output_type": "stream",
     "text": [
      "sum of squared errors (SSE): 465.2124770491804\n",
      "mean squared error (MSE): 1.906608512496641\n",
      "root mean squared error (RMSE): 1.3807999538298954\n"
     ]
    }
   ],
   "source": [
    "baseline_mean_errors(tips.tip, tips)"
   ]
  },
  {
   "cell_type": "code",
   "execution_count": 57,
   "metadata": {
    "ExecuteTime": {
     "end_time": "2021-03-16T21:18:28.664839Z",
     "start_time": "2021-03-16T21:18:28.656423Z"
    }
   },
   "outputs": [],
   "source": [
    "def better_than_baseline(y, yhat, df): \n",
    "    SSE = (mean_squared_error(y, yhat))*len(y)\n",
    "    \n",
    "    df['baseline'] = y.mean()\n",
    "    df['baseline_residual'] = y - df.baseline\n",
    "    df['baseline_residual^2'] = df.baseline_residual**2\n",
    "    \n",
    "    SSE_baseline = df['baseline_residual^2'].sum()\n",
    "    \n",
    "    if SSE < SSE_baseline:\n",
    "        print (f'Model SSE {SSE} is < Baseline SSE {SSE_baseline} so the model is better than baseline')\n",
    "    else:\n",
    "        print ('Model SSE is worse than baseline')"
   ]
  },
  {
   "cell_type": "code",
   "execution_count": 59,
   "metadata": {
    "ExecuteTime": {
     "end_time": "2021-03-16T21:18:53.456460Z",
     "start_time": "2021-03-16T21:18:53.443337Z"
    }
   },
   "outputs": [
    {
     "name": "stdout",
     "output_type": "stream",
     "text": [
      "Model SSE 252.788743850776 is < Baseline SSE 465.2124770491804 so the model is better than baseline\n"
     ]
    }
   ],
   "source": [
    "better_than_baseline(tips.tip, tips.yhat, tips)"
   ]
  },
  {
   "cell_type": "markdown",
   "metadata": {},
   "source": [
    "# 10. Load the mpg dataset and fit a model that predicts highway mileage based on engine displacement. Take a look at all the regression evaluation metrics, and determine whether this model is better than the baseline model. Use the functions from your evaluate.py to help accomplish this.\n",
    "\n"
   ]
  },
  {
   "cell_type": "code",
   "execution_count": null,
   "metadata": {},
   "outputs": [],
   "source": []
  },
  {
   "cell_type": "code",
   "execution_count": null,
   "metadata": {},
   "outputs": [],
   "source": []
  }
 ],
 "metadata": {
  "kernelspec": {
   "display_name": "Python 3",
   "language": "python",
   "name": "python3"
  },
  "language_info": {
   "codemirror_mode": {
    "name": "ipython",
    "version": 3
   },
   "file_extension": ".py",
   "mimetype": "text/x-python",
   "name": "python",
   "nbconvert_exporter": "python",
   "pygments_lexer": "ipython3",
   "version": "3.8.5"
  }
 },
 "nbformat": 4,
 "nbformat_minor": 4
}
